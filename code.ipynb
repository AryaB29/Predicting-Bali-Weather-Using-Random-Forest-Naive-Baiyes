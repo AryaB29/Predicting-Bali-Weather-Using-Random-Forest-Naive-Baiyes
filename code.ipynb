{
 "cells": [
  {
   "attachments": {},
   "cell_type": "markdown",
   "metadata": {},
   "source": [
    "# Final Project MA336 2211376"
   ]
  },
  {
   "attachments": {},
   "cell_type": "markdown",
   "metadata": {},
   "source": [
    "# Introduction"
   ]
  },
  {
   "attachments": {},
   "cell_type": "markdown",
   "metadata": {},
   "source": [
    "![Bali.jpg](Bali.jpg)"
   ]
  },
  {
   "attachments": {},
   "cell_type": "markdown",
   "metadata": {},
   "source": [
    "This report focuses on analyzing historical weather data obtained from the dataset available at https://www.kaggle.com/datasets/cornflake15/denpasarbalihistoricalweatherdata?resource=download From 1990 - 2020. The dataset provides comprehensive information about weather conditions in Bali, Indonesia. It includes various parameters such as Preassure, humidity, and more. The primary objective of this project is to determine the prevailing weather conditions during specific time periods. \n",
    "\n",
    "Accurate weather information is crucial for a variety of purposes, including agriculture, tourism, and general planning. By analyzing historical weather data, we can gain insights into patterns, trends, and fluctuations in weather conditions over time. This analysis enables us to make informed decisions based on past weather patterns and anticipate future weather conditions.\n",
    "\n",
    "Bali, a popular tourist destination renowned for its picturesque landscapes and cultural attractions, experiences a tropical climate characterized by distinct wet and dry seasons. Understanding the weather dynamics in Bali is essential for visitors, locals, and businesses alike. This project aims to utilize the provided dataset to gain a deeper understanding of the weather patterns and conditions specific to the Denpasar area in Bali.\n",
    "\n",
    "The dataset offers a wealth of information collected over a significant period, allowing us to explore various aspects of weather conditions. By focusing on factors such as rainfall, humidity, and other relevant parameters, we can gain insights into the climate of Denpasar and its surrounding areas. The analysis will provide valuable information for planning outdoor activities, assessing agricultural practices, and understanding the overall weather patterns in the region.\n",
    "\n",
    "This project aimed to predict weather conditions based on the environmental conditions that occur in a given area. By analyzing various environmental factors such as temperature, humidity, wind speed, and Preassure, the objective was to develop a predictive model that could accurately forecast the prevailing weather conditions. The project aimed to leverage the relationship between these environmental variables and historical weather data to make informed predictions about future weather patterns. By understanding and predicting weather conditions, this project aimed to provide valuable insights for planning and decision-making in various fields, including agriculture, tourism, transportation, and disaster management."
   ]
  },
  {
   "attachments": {},
   "cell_type": "markdown",
   "metadata": {},
   "source": [
    "# Model Used"
   ]
  },
  {
   "attachments": {},
   "cell_type": "markdown",
   "metadata": {},
   "source": [
    "## Random Forest Classifier"
   ]
  },
  {
   "attachments": {},
   "cell_type": "markdown",
   "metadata": {},
   "source": [
    "![RF.jpg.png](RF.jpg)"
   ]
  },
  {
   "attachments": {},
   "cell_type": "markdown",
   "metadata": {},
   "source": [
    "Random Forest Classifier is an ensemble learning algorithm that combines multiple decision trees to make predictions. It is a popular and powerful machine learning technique used for classification tasks. The key idea behind the Random Forest algorithm is to create a \"forest\" of decision trees and then make predictions based on the majority vote or average prediction of the individual trees.\n",
    "\n",
    "Random Forest Classifier has wide applicability and performs well on various types of datasets. It is suitable for both binary and multiclass classification problems. Its ability to handle high-dimensional data, deal with missing values, and provide feature importance make it a versatile and reliable algorithm for classification tasks.\n",
    "\n",
    "In summary, Random Forest Classifier combines the strengths of decision trees, randomness, and ensemble learning to create a robust and accurate classification model. It is widely used in various domains, such as finance, healthcare, and image recognition, where accurate predictions and interpretability are essential."
   ]
  },
  {
   "attachments": {},
   "cell_type": "markdown",
   "metadata": {},
   "source": [
    "## Naive Bayes"
   ]
  },
  {
   "attachments": {},
   "cell_type": "markdown",
   "metadata": {},
   "source": [
    "![Naive.png](Naive.png)"
   ]
  },
  {
   "attachments": {},
   "cell_type": "markdown",
   "metadata": {},
   "source": [
    "Naive Bayes is a classification algorithm based on Bayes' theorem, which assumes that the features in a dataset are independent of each other. It is called \"naive\" because it makes a strong assumption of independence among the features, even though this may not be true in reality.The algorithm calculates the probability of each class label given the input features and selects the class with the highest probability as the predicted class. It utilizes Bayes' theorem to compute these probabilities, which involves estimating the prior probability of each class and the likelihood of observing the features given each class.\n",
    "\n",
    "Naive Bayes is particularly useful when dealing with high-dimensional datasets and is known for its simplicity and efficiency. It is commonly used in text classification tasks, such as spam filtering and sentiment analysis, but can also be applied to other types of data.\n",
    "\n",
    "Despite its simplicity, Naive Bayes has shown competitive performance in many real-world applications. However, its assumption of feature independence can limit its effectiveness in cases where the features are strongly correlated.\n",
    "\n",
    "Overall, Naive Bayes is a probabilistic classifier that provides a fast and straightforward solution for classification problems, making it a popular choice in various domains."
   ]
  },
  {
   "attachments": {},
   "cell_type": "markdown",
   "metadata": {},
   "source": [
    "# Library Import"
   ]
  },
  {
   "attachments": {},
   "cell_type": "markdown",
   "metadata": {},
   "source": [
    "Here, we will import some important libraries such as pandas, numpy, matplotlib, etc."
   ]
  },
  {
   "cell_type": "code",
   "execution_count": 77,
   "metadata": {},
   "outputs": [],
   "source": [
    "import pandas as pd #For data manipulation\n",
    "from datetime import datetime #for dealing with datetime data\n",
    "from IPython import display #For Displaying Image\n",
    "import numpy as np #For mathematical equations\n",
    "import matplotlib.pyplot as plt #For Plotting Graph\n",
    "import plotly #For Plotting Graph\n",
    "import seaborn as sns #For Plotting Graph\n",
    "from collections import Counter #to counting the data\n",
    "from sklearn.preprocessing import StandardScaler #For data scaling\n",
    "from sklearn.model_selection import train_test_split # to perform testing split\n",
    "from imblearn.over_sampling import SMOTE #for performing rebalancing data\n",
    "from sklearn.ensemble import RandomForestClassifier #for making Random Forest model\n",
    "from sklearn.model_selection import RandomizedSearchCV #For model Improvement\n",
    "from sklearn.metrics import accuracy_score, precision_score, recall_score, f1_score, confusion_matrix, roc_curve, roc_auc_score # For model evaluation\n",
    "from sklearn.pipeline import Pipeline #to make the pipeline\n",
    "from sklearn.decomposition import PCA # to make PCA\n",
    "from sklearn.naive_bayes import GaussianNB #For making model naive bayes"
   ]
  },
  {
   "attachments": {},
   "cell_type": "markdown",
   "metadata": {},
   "source": [
    "# Data Loading & Understanding"
   ]
  },
  {
   "attachments": {},
   "cell_type": "markdown",
   "metadata": {},
   "source": [
    "Here we would like to load our data using pandas library"
   ]
  },
  {
   "cell_type": "code",
   "execution_count": 2,
   "metadata": {},
   "outputs": [],
   "source": [
    "#For Loading Data\n",
    "data = pd.read_csv(r'C:\\Users\\aryab\\Documents\\S2\\Artificial Intelligence\\Koding\\openweatherdata-denpasar-1990-2020v0.1.csv')"
   ]
  },
  {
   "attachments": {},
   "cell_type": "markdown",
   "metadata": {},
   "source": [
    "After that we will take a look of our datasets"
   ]
  },
  {
   "cell_type": "code",
   "execution_count": 3,
   "metadata": {},
   "outputs": [
    {
     "data": {
      "text/html": [
       "<div>\n",
       "<style scoped>\n",
       "    .dataframe tbody tr th:only-of-type {\n",
       "        vertical-align: middle;\n",
       "    }\n",
       "\n",
       "    .dataframe tbody tr th {\n",
       "        vertical-align: top;\n",
       "    }\n",
       "\n",
       "    .dataframe thead th {\n",
       "        text-align: right;\n",
       "    }\n",
       "</style>\n",
       "<table border=\"1\" class=\"dataframe\">\n",
       "  <thead>\n",
       "    <tr style=\"text-align: right;\">\n",
       "      <th></th>\n",
       "      <th>dt_iso</th>\n",
       "      <th>timezone</th>\n",
       "      <th>city_name</th>\n",
       "      <th>lat</th>\n",
       "      <th>lon</th>\n",
       "      <th>temp</th>\n",
       "      <th>temp_min</th>\n",
       "      <th>temp_max</th>\n",
       "      <th>pressure</th>\n",
       "      <th>humidity</th>\n",
       "      <th>...</th>\n",
       "      <th>snow_3h</th>\n",
       "      <th>snow_6h</th>\n",
       "      <th>snow_12h</th>\n",
       "      <th>snow_24h</th>\n",
       "      <th>snow_today</th>\n",
       "      <th>clouds_all</th>\n",
       "      <th>weather_id</th>\n",
       "      <th>weather_main</th>\n",
       "      <th>weather_description</th>\n",
       "      <th>weather_icon</th>\n",
       "    </tr>\n",
       "  </thead>\n",
       "  <tbody>\n",
       "    <tr>\n",
       "      <th>0</th>\n",
       "      <td>1/1/1990 0:00</td>\n",
       "      <td>28800</td>\n",
       "      <td>Denpasar</td>\n",
       "      <td>-8.652497</td>\n",
       "      <td>115.219117</td>\n",
       "      <td>25.82</td>\n",
       "      <td>25.82</td>\n",
       "      <td>25.82</td>\n",
       "      <td>1010.0</td>\n",
       "      <td>86</td>\n",
       "      <td>...</td>\n",
       "      <td>NaN</td>\n",
       "      <td>NaN</td>\n",
       "      <td>NaN</td>\n",
       "      <td>NaN</td>\n",
       "      <td>NaN</td>\n",
       "      <td>98</td>\n",
       "      <td>500</td>\n",
       "      <td>Rain</td>\n",
       "      <td>light rain</td>\n",
       "      <td>10d</td>\n",
       "    </tr>\n",
       "    <tr>\n",
       "      <th>1</th>\n",
       "      <td>1/1/1990 1:00</td>\n",
       "      <td>28800</td>\n",
       "      <td>Denpasar</td>\n",
       "      <td>-8.652497</td>\n",
       "      <td>115.219117</td>\n",
       "      <td>26.20</td>\n",
       "      <td>26.20</td>\n",
       "      <td>26.20</td>\n",
       "      <td>1011.0</td>\n",
       "      <td>84</td>\n",
       "      <td>...</td>\n",
       "      <td>NaN</td>\n",
       "      <td>NaN</td>\n",
       "      <td>NaN</td>\n",
       "      <td>NaN</td>\n",
       "      <td>NaN</td>\n",
       "      <td>91</td>\n",
       "      <td>500</td>\n",
       "      <td>Rain</td>\n",
       "      <td>light rain</td>\n",
       "      <td>10d</td>\n",
       "    </tr>\n",
       "    <tr>\n",
       "      <th>2</th>\n",
       "      <td>1/1/1990 2:00</td>\n",
       "      <td>28800</td>\n",
       "      <td>Denpasar</td>\n",
       "      <td>-8.652497</td>\n",
       "      <td>115.219117</td>\n",
       "      <td>26.45</td>\n",
       "      <td>26.45</td>\n",
       "      <td>26.45</td>\n",
       "      <td>1011.0</td>\n",
       "      <td>84</td>\n",
       "      <td>...</td>\n",
       "      <td>NaN</td>\n",
       "      <td>NaN</td>\n",
       "      <td>NaN</td>\n",
       "      <td>NaN</td>\n",
       "      <td>NaN</td>\n",
       "      <td>94</td>\n",
       "      <td>500</td>\n",
       "      <td>Rain</td>\n",
       "      <td>light rain</td>\n",
       "      <td>10d</td>\n",
       "    </tr>\n",
       "    <tr>\n",
       "      <th>3</th>\n",
       "      <td>1/1/1990 3:00</td>\n",
       "      <td>28800</td>\n",
       "      <td>Denpasar</td>\n",
       "      <td>-8.652497</td>\n",
       "      <td>115.219117</td>\n",
       "      <td>26.80</td>\n",
       "      <td>26.80</td>\n",
       "      <td>26.80</td>\n",
       "      <td>1011.0</td>\n",
       "      <td>82</td>\n",
       "      <td>...</td>\n",
       "      <td>NaN</td>\n",
       "      <td>NaN</td>\n",
       "      <td>NaN</td>\n",
       "      <td>NaN</td>\n",
       "      <td>NaN</td>\n",
       "      <td>94</td>\n",
       "      <td>500</td>\n",
       "      <td>Rain</td>\n",
       "      <td>light rain</td>\n",
       "      <td>10d</td>\n",
       "    </tr>\n",
       "    <tr>\n",
       "      <th>4</th>\n",
       "      <td>1/1/1990 4:00</td>\n",
       "      <td>28800</td>\n",
       "      <td>Denpasar</td>\n",
       "      <td>-8.652497</td>\n",
       "      <td>115.219117</td>\n",
       "      <td>27.04</td>\n",
       "      <td>27.04</td>\n",
       "      <td>27.04</td>\n",
       "      <td>1010.0</td>\n",
       "      <td>82</td>\n",
       "      <td>...</td>\n",
       "      <td>NaN</td>\n",
       "      <td>NaN</td>\n",
       "      <td>NaN</td>\n",
       "      <td>NaN</td>\n",
       "      <td>NaN</td>\n",
       "      <td>76</td>\n",
       "      <td>803</td>\n",
       "      <td>Clouds</td>\n",
       "      <td>broken clouds</td>\n",
       "      <td>04d</td>\n",
       "    </tr>\n",
       "    <tr>\n",
       "      <th>5</th>\n",
       "      <td>1/1/1990 5:00</td>\n",
       "      <td>28800</td>\n",
       "      <td>Denpasar</td>\n",
       "      <td>-8.652497</td>\n",
       "      <td>115.219117</td>\n",
       "      <td>27.23</td>\n",
       "      <td>27.23</td>\n",
       "      <td>27.23</td>\n",
       "      <td>1009.0</td>\n",
       "      <td>82</td>\n",
       "      <td>...</td>\n",
       "      <td>NaN</td>\n",
       "      <td>NaN</td>\n",
       "      <td>NaN</td>\n",
       "      <td>NaN</td>\n",
       "      <td>NaN</td>\n",
       "      <td>65</td>\n",
       "      <td>803</td>\n",
       "      <td>Clouds</td>\n",
       "      <td>broken clouds</td>\n",
       "      <td>04d</td>\n",
       "    </tr>\n",
       "    <tr>\n",
       "      <th>6</th>\n",
       "      <td>1/1/1990 6:00</td>\n",
       "      <td>28800</td>\n",
       "      <td>Denpasar</td>\n",
       "      <td>-8.652497</td>\n",
       "      <td>115.219117</td>\n",
       "      <td>27.32</td>\n",
       "      <td>27.32</td>\n",
       "      <td>27.32</td>\n",
       "      <td>1008.0</td>\n",
       "      <td>82</td>\n",
       "      <td>...</td>\n",
       "      <td>NaN</td>\n",
       "      <td>NaN</td>\n",
       "      <td>NaN</td>\n",
       "      <td>NaN</td>\n",
       "      <td>NaN</td>\n",
       "      <td>68</td>\n",
       "      <td>803</td>\n",
       "      <td>Clouds</td>\n",
       "      <td>broken clouds</td>\n",
       "      <td>04d</td>\n",
       "    </tr>\n",
       "    <tr>\n",
       "      <th>7</th>\n",
       "      <td>1/1/1990 7:00</td>\n",
       "      <td>28800</td>\n",
       "      <td>Denpasar</td>\n",
       "      <td>-8.652497</td>\n",
       "      <td>115.219117</td>\n",
       "      <td>27.29</td>\n",
       "      <td>27.29</td>\n",
       "      <td>27.29</td>\n",
       "      <td>1008.0</td>\n",
       "      <td>82</td>\n",
       "      <td>...</td>\n",
       "      <td>NaN</td>\n",
       "      <td>NaN</td>\n",
       "      <td>NaN</td>\n",
       "      <td>NaN</td>\n",
       "      <td>NaN</td>\n",
       "      <td>71</td>\n",
       "      <td>500</td>\n",
       "      <td>Rain</td>\n",
       "      <td>light rain</td>\n",
       "      <td>10d</td>\n",
       "    </tr>\n",
       "    <tr>\n",
       "      <th>8</th>\n",
       "      <td>1/1/1990 8:00</td>\n",
       "      <td>28800</td>\n",
       "      <td>Denpasar</td>\n",
       "      <td>-8.652497</td>\n",
       "      <td>115.219117</td>\n",
       "      <td>27.34</td>\n",
       "      <td>27.34</td>\n",
       "      <td>27.34</td>\n",
       "      <td>1007.0</td>\n",
       "      <td>81</td>\n",
       "      <td>...</td>\n",
       "      <td>NaN</td>\n",
       "      <td>NaN</td>\n",
       "      <td>NaN</td>\n",
       "      <td>NaN</td>\n",
       "      <td>NaN</td>\n",
       "      <td>76</td>\n",
       "      <td>500</td>\n",
       "      <td>Rain</td>\n",
       "      <td>light rain</td>\n",
       "      <td>10d</td>\n",
       "    </tr>\n",
       "    <tr>\n",
       "      <th>9</th>\n",
       "      <td>1/1/1990 9:00</td>\n",
       "      <td>28800</td>\n",
       "      <td>Denpasar</td>\n",
       "      <td>-8.652497</td>\n",
       "      <td>115.219117</td>\n",
       "      <td>27.23</td>\n",
       "      <td>27.23</td>\n",
       "      <td>27.23</td>\n",
       "      <td>1007.0</td>\n",
       "      <td>82</td>\n",
       "      <td>...</td>\n",
       "      <td>NaN</td>\n",
       "      <td>NaN</td>\n",
       "      <td>NaN</td>\n",
       "      <td>NaN</td>\n",
       "      <td>NaN</td>\n",
       "      <td>87</td>\n",
       "      <td>804</td>\n",
       "      <td>Clouds</td>\n",
       "      <td>overcast clouds</td>\n",
       "      <td>04d</td>\n",
       "    </tr>\n",
       "  </tbody>\n",
       "</table>\n",
       "<p>10 rows × 29 columns</p>\n",
       "</div>"
      ],
      "text/plain": [
       "          dt_iso  timezone city_name       lat         lon   temp  temp_min  \\\n",
       "0  1/1/1990 0:00     28800  Denpasar -8.652497  115.219117  25.82     25.82   \n",
       "1  1/1/1990 1:00     28800  Denpasar -8.652497  115.219117  26.20     26.20   \n",
       "2  1/1/1990 2:00     28800  Denpasar -8.652497  115.219117  26.45     26.45   \n",
       "3  1/1/1990 3:00     28800  Denpasar -8.652497  115.219117  26.80     26.80   \n",
       "4  1/1/1990 4:00     28800  Denpasar -8.652497  115.219117  27.04     27.04   \n",
       "5  1/1/1990 5:00     28800  Denpasar -8.652497  115.219117  27.23     27.23   \n",
       "6  1/1/1990 6:00     28800  Denpasar -8.652497  115.219117  27.32     27.32   \n",
       "7  1/1/1990 7:00     28800  Denpasar -8.652497  115.219117  27.29     27.29   \n",
       "8  1/1/1990 8:00     28800  Denpasar -8.652497  115.219117  27.34     27.34   \n",
       "9  1/1/1990 9:00     28800  Denpasar -8.652497  115.219117  27.23     27.23   \n",
       "\n",
       "   temp_max  pressure  humidity  ...  snow_3h  snow_6h  snow_12h  snow_24h  \\\n",
       "0     25.82    1010.0        86  ...      NaN      NaN       NaN       NaN   \n",
       "1     26.20    1011.0        84  ...      NaN      NaN       NaN       NaN   \n",
       "2     26.45    1011.0        84  ...      NaN      NaN       NaN       NaN   \n",
       "3     26.80    1011.0        82  ...      NaN      NaN       NaN       NaN   \n",
       "4     27.04    1010.0        82  ...      NaN      NaN       NaN       NaN   \n",
       "5     27.23    1009.0        82  ...      NaN      NaN       NaN       NaN   \n",
       "6     27.32    1008.0        82  ...      NaN      NaN       NaN       NaN   \n",
       "7     27.29    1008.0        82  ...      NaN      NaN       NaN       NaN   \n",
       "8     27.34    1007.0        81  ...      NaN      NaN       NaN       NaN   \n",
       "9     27.23    1007.0        82  ...      NaN      NaN       NaN       NaN   \n",
       "\n",
       "   snow_today  clouds_all  weather_id  weather_main  weather_description  \\\n",
       "0         NaN          98         500          Rain           light rain   \n",
       "1         NaN          91         500          Rain           light rain   \n",
       "2         NaN          94         500          Rain           light rain   \n",
       "3         NaN          94         500          Rain           light rain   \n",
       "4         NaN          76         803        Clouds        broken clouds   \n",
       "5         NaN          65         803        Clouds        broken clouds   \n",
       "6         NaN          68         803        Clouds        broken clouds   \n",
       "7         NaN          71         500          Rain           light rain   \n",
       "8         NaN          76         500          Rain           light rain   \n",
       "9         NaN          87         804        Clouds      overcast clouds   \n",
       "\n",
       "   weather_icon  \n",
       "0           10d  \n",
       "1           10d  \n",
       "2           10d  \n",
       "3           10d  \n",
       "4           04d  \n",
       "5           04d  \n",
       "6           04d  \n",
       "7           10d  \n",
       "8           10d  \n",
       "9           04d  \n",
       "\n",
       "[10 rows x 29 columns]"
      ]
     },
     "execution_count": 3,
     "metadata": {},
     "output_type": "execute_result"
    }
   ],
   "source": [
    "#Showing the data\n",
    "data.head(10)"
   ]
  },
  {
   "attachments": {},
   "cell_type": "markdown",
   "metadata": {},
   "source": [
    "Due to Indonesia's tropical climate, it experiences two distinct seasons, namely the rainy season and the hot season. As a result, it is logical that there are no instances of snow recorded in the dataset, as snowfall does not occur in this region."
   ]
  },
  {
   "attachments": {},
   "cell_type": "markdown",
   "metadata": {},
   "source": [
    "Next we would like to inspect about the statistical measurement in our dataset"
   ]
  },
  {
   "cell_type": "code",
   "execution_count": 4,
   "metadata": {},
   "outputs": [
    {
     "data": {
      "text/html": [
       "<div>\n",
       "<style scoped>\n",
       "    .dataframe tbody tr th:only-of-type {\n",
       "        vertical-align: middle;\n",
       "    }\n",
       "\n",
       "    .dataframe tbody tr th {\n",
       "        vertical-align: top;\n",
       "    }\n",
       "\n",
       "    .dataframe thead th {\n",
       "        text-align: right;\n",
       "    }\n",
       "</style>\n",
       "<table border=\"1\" class=\"dataframe\">\n",
       "  <thead>\n",
       "    <tr style=\"text-align: right;\">\n",
       "      <th></th>\n",
       "      <th>count</th>\n",
       "      <th>mean</th>\n",
       "      <th>std</th>\n",
       "      <th>min</th>\n",
       "      <th>25%</th>\n",
       "      <th>50%</th>\n",
       "      <th>75%</th>\n",
       "      <th>max</th>\n",
       "    </tr>\n",
       "  </thead>\n",
       "  <tbody>\n",
       "    <tr>\n",
       "      <th>timezone</th>\n",
       "      <td>264924.0</td>\n",
       "      <td>28800.000000</td>\n",
       "      <td>0.000000e+00</td>\n",
       "      <td>28800.000000</td>\n",
       "      <td>28800.000000</td>\n",
       "      <td>28800.000000</td>\n",
       "      <td>28800.000000</td>\n",
       "      <td>28800.000000</td>\n",
       "    </tr>\n",
       "    <tr>\n",
       "      <th>lat</th>\n",
       "      <td>264924.0</td>\n",
       "      <td>-8.652497</td>\n",
       "      <td>1.776360e-15</td>\n",
       "      <td>-8.652497</td>\n",
       "      <td>-8.652497</td>\n",
       "      <td>-8.652497</td>\n",
       "      <td>-8.652497</td>\n",
       "      <td>-8.652497</td>\n",
       "    </tr>\n",
       "    <tr>\n",
       "      <th>lon</th>\n",
       "      <td>264924.0</td>\n",
       "      <td>115.219117</td>\n",
       "      <td>8.526529e-14</td>\n",
       "      <td>115.219117</td>\n",
       "      <td>115.219117</td>\n",
       "      <td>115.219117</td>\n",
       "      <td>115.219117</td>\n",
       "      <td>115.219117</td>\n",
       "    </tr>\n",
       "    <tr>\n",
       "      <th>temp</th>\n",
       "      <td>264924.0</td>\n",
       "      <td>27.273336</td>\n",
       "      <td>1.962571e+00</td>\n",
       "      <td>3.000000</td>\n",
       "      <td>25.940000</td>\n",
       "      <td>27.000000</td>\n",
       "      <td>28.600000</td>\n",
       "      <td>39.000000</td>\n",
       "    </tr>\n",
       "    <tr>\n",
       "      <th>temp_min</th>\n",
       "      <td>264924.0</td>\n",
       "      <td>27.147962</td>\n",
       "      <td>1.973218e+00</td>\n",
       "      <td>2.000000</td>\n",
       "      <td>25.820000</td>\n",
       "      <td>27.000000</td>\n",
       "      <td>28.400000</td>\n",
       "      <td>39.000000</td>\n",
       "    </tr>\n",
       "    <tr>\n",
       "      <th>temp_max</th>\n",
       "      <td>264924.0</td>\n",
       "      <td>27.397479</td>\n",
       "      <td>1.989172e+00</td>\n",
       "      <td>3.000000</td>\n",
       "      <td>26.000000</td>\n",
       "      <td>27.000000</td>\n",
       "      <td>29.000000</td>\n",
       "      <td>39.800000</td>\n",
       "    </tr>\n",
       "    <tr>\n",
       "      <th>pressure</th>\n",
       "      <td>264924.0</td>\n",
       "      <td>1010.032919</td>\n",
       "      <td>2.286581e+00</td>\n",
       "      <td>998.400000</td>\n",
       "      <td>1008.400000</td>\n",
       "      <td>1010.200000</td>\n",
       "      <td>1011.900000</td>\n",
       "      <td>1023.200000</td>\n",
       "    </tr>\n",
       "    <tr>\n",
       "      <th>humidity</th>\n",
       "      <td>264924.0</td>\n",
       "      <td>80.844997</td>\n",
       "      <td>8.720109e+00</td>\n",
       "      <td>14.000000</td>\n",
       "      <td>74.000000</td>\n",
       "      <td>83.000000</td>\n",
       "      <td>88.000000</td>\n",
       "      <td>100.000000</td>\n",
       "    </tr>\n",
       "    <tr>\n",
       "      <th>wind_speed</th>\n",
       "      <td>264924.0</td>\n",
       "      <td>3.612394</td>\n",
       "      <td>1.909580e+00</td>\n",
       "      <td>0.010000</td>\n",
       "      <td>2.100000</td>\n",
       "      <td>3.600000</td>\n",
       "      <td>4.710000</td>\n",
       "      <td>31.900000</td>\n",
       "    </tr>\n",
       "    <tr>\n",
       "      <th>wind_deg</th>\n",
       "      <td>264924.0</td>\n",
       "      <td>158.204696</td>\n",
       "      <td>8.500005e+01</td>\n",
       "      <td>0.000000</td>\n",
       "      <td>106.000000</td>\n",
       "      <td>120.000000</td>\n",
       "      <td>250.000000</td>\n",
       "      <td>360.000000</td>\n",
       "    </tr>\n",
       "    <tr>\n",
       "      <th>rain_1h</th>\n",
       "      <td>16286.0</td>\n",
       "      <td>0.470510</td>\n",
       "      <td>6.777435e-01</td>\n",
       "      <td>0.000000</td>\n",
       "      <td>0.150000</td>\n",
       "      <td>0.240000</td>\n",
       "      <td>0.520000</td>\n",
       "      <td>19.100000</td>\n",
       "    </tr>\n",
       "    <tr>\n",
       "      <th>rain_3h</th>\n",
       "      <td>16156.0</td>\n",
       "      <td>6.728510</td>\n",
       "      <td>1.135744e+01</td>\n",
       "      <td>0.000000</td>\n",
       "      <td>0.800000</td>\n",
       "      <td>2.000000</td>\n",
       "      <td>7.000000</td>\n",
       "      <td>116.000000</td>\n",
       "    </tr>\n",
       "    <tr>\n",
       "      <th>rain_6h</th>\n",
       "      <td>36098.0</td>\n",
       "      <td>1.805094</td>\n",
       "      <td>7.626013e+00</td>\n",
       "      <td>0.000000</td>\n",
       "      <td>0.000000</td>\n",
       "      <td>0.000000</td>\n",
       "      <td>0.000000</td>\n",
       "      <td>206.000000</td>\n",
       "    </tr>\n",
       "    <tr>\n",
       "      <th>rain_12h</th>\n",
       "      <td>12.0</td>\n",
       "      <td>116.700000</td>\n",
       "      <td>1.166359e+02</td>\n",
       "      <td>0.800000</td>\n",
       "      <td>7.700000</td>\n",
       "      <td>113.000000</td>\n",
       "      <td>222.000000</td>\n",
       "      <td>240.000000</td>\n",
       "    </tr>\n",
       "    <tr>\n",
       "      <th>rain_24h</th>\n",
       "      <td>6817.0</td>\n",
       "      <td>13.797125</td>\n",
       "      <td>2.104127e+01</td>\n",
       "      <td>0.000000</td>\n",
       "      <td>1.000000</td>\n",
       "      <td>5.100000</td>\n",
       "      <td>17.000000</td>\n",
       "      <td>255.000000</td>\n",
       "    </tr>\n",
       "    <tr>\n",
       "      <th>rain_today</th>\n",
       "      <td>0.0</td>\n",
       "      <td>NaN</td>\n",
       "      <td>NaN</td>\n",
       "      <td>NaN</td>\n",
       "      <td>NaN</td>\n",
       "      <td>NaN</td>\n",
       "      <td>NaN</td>\n",
       "      <td>NaN</td>\n",
       "    </tr>\n",
       "    <tr>\n",
       "      <th>snow_1h</th>\n",
       "      <td>0.0</td>\n",
       "      <td>NaN</td>\n",
       "      <td>NaN</td>\n",
       "      <td>NaN</td>\n",
       "      <td>NaN</td>\n",
       "      <td>NaN</td>\n",
       "      <td>NaN</td>\n",
       "      <td>NaN</td>\n",
       "    </tr>\n",
       "    <tr>\n",
       "      <th>snow_3h</th>\n",
       "      <td>0.0</td>\n",
       "      <td>NaN</td>\n",
       "      <td>NaN</td>\n",
       "      <td>NaN</td>\n",
       "      <td>NaN</td>\n",
       "      <td>NaN</td>\n",
       "      <td>NaN</td>\n",
       "      <td>NaN</td>\n",
       "    </tr>\n",
       "    <tr>\n",
       "      <th>snow_6h</th>\n",
       "      <td>0.0</td>\n",
       "      <td>NaN</td>\n",
       "      <td>NaN</td>\n",
       "      <td>NaN</td>\n",
       "      <td>NaN</td>\n",
       "      <td>NaN</td>\n",
       "      <td>NaN</td>\n",
       "      <td>NaN</td>\n",
       "    </tr>\n",
       "    <tr>\n",
       "      <th>snow_12h</th>\n",
       "      <td>0.0</td>\n",
       "      <td>NaN</td>\n",
       "      <td>NaN</td>\n",
       "      <td>NaN</td>\n",
       "      <td>NaN</td>\n",
       "      <td>NaN</td>\n",
       "      <td>NaN</td>\n",
       "      <td>NaN</td>\n",
       "    </tr>\n",
       "    <tr>\n",
       "      <th>snow_24h</th>\n",
       "      <td>0.0</td>\n",
       "      <td>NaN</td>\n",
       "      <td>NaN</td>\n",
       "      <td>NaN</td>\n",
       "      <td>NaN</td>\n",
       "      <td>NaN</td>\n",
       "      <td>NaN</td>\n",
       "      <td>NaN</td>\n",
       "    </tr>\n",
       "    <tr>\n",
       "      <th>snow_today</th>\n",
       "      <td>0.0</td>\n",
       "      <td>NaN</td>\n",
       "      <td>NaN</td>\n",
       "      <td>NaN</td>\n",
       "      <td>NaN</td>\n",
       "      <td>NaN</td>\n",
       "      <td>NaN</td>\n",
       "      <td>NaN</td>\n",
       "    </tr>\n",
       "    <tr>\n",
       "      <th>clouds_all</th>\n",
       "      <td>264924.0</td>\n",
       "      <td>38.478960</td>\n",
       "      <td>2.493015e+01</td>\n",
       "      <td>0.000000</td>\n",
       "      <td>20.000000</td>\n",
       "      <td>26.000000</td>\n",
       "      <td>40.000000</td>\n",
       "      <td>100.000000</td>\n",
       "    </tr>\n",
       "    <tr>\n",
       "      <th>weather_id</th>\n",
       "      <td>264924.0</td>\n",
       "      <td>751.160046</td>\n",
       "      <td>1.252878e+02</td>\n",
       "      <td>200.000000</td>\n",
       "      <td>801.000000</td>\n",
       "      <td>801.000000</td>\n",
       "      <td>802.000000</td>\n",
       "      <td>804.000000</td>\n",
       "    </tr>\n",
       "  </tbody>\n",
       "</table>\n",
       "</div>"
      ],
      "text/plain": [
       "               count          mean           std           min           25%  \\\n",
       "timezone    264924.0  28800.000000  0.000000e+00  28800.000000  28800.000000   \n",
       "lat         264924.0     -8.652497  1.776360e-15     -8.652497     -8.652497   \n",
       "lon         264924.0    115.219117  8.526529e-14    115.219117    115.219117   \n",
       "temp        264924.0     27.273336  1.962571e+00      3.000000     25.940000   \n",
       "temp_min    264924.0     27.147962  1.973218e+00      2.000000     25.820000   \n",
       "temp_max    264924.0     27.397479  1.989172e+00      3.000000     26.000000   \n",
       "pressure    264924.0   1010.032919  2.286581e+00    998.400000   1008.400000   \n",
       "humidity    264924.0     80.844997  8.720109e+00     14.000000     74.000000   \n",
       "wind_speed  264924.0      3.612394  1.909580e+00      0.010000      2.100000   \n",
       "wind_deg    264924.0    158.204696  8.500005e+01      0.000000    106.000000   \n",
       "rain_1h      16286.0      0.470510  6.777435e-01      0.000000      0.150000   \n",
       "rain_3h      16156.0      6.728510  1.135744e+01      0.000000      0.800000   \n",
       "rain_6h      36098.0      1.805094  7.626013e+00      0.000000      0.000000   \n",
       "rain_12h        12.0    116.700000  1.166359e+02      0.800000      7.700000   \n",
       "rain_24h      6817.0     13.797125  2.104127e+01      0.000000      1.000000   \n",
       "rain_today       0.0           NaN           NaN           NaN           NaN   \n",
       "snow_1h          0.0           NaN           NaN           NaN           NaN   \n",
       "snow_3h          0.0           NaN           NaN           NaN           NaN   \n",
       "snow_6h          0.0           NaN           NaN           NaN           NaN   \n",
       "snow_12h         0.0           NaN           NaN           NaN           NaN   \n",
       "snow_24h         0.0           NaN           NaN           NaN           NaN   \n",
       "snow_today       0.0           NaN           NaN           NaN           NaN   \n",
       "clouds_all  264924.0     38.478960  2.493015e+01      0.000000     20.000000   \n",
       "weather_id  264924.0    751.160046  1.252878e+02    200.000000    801.000000   \n",
       "\n",
       "                     50%           75%           max  \n",
       "timezone    28800.000000  28800.000000  28800.000000  \n",
       "lat            -8.652497     -8.652497     -8.652497  \n",
       "lon           115.219117    115.219117    115.219117  \n",
       "temp           27.000000     28.600000     39.000000  \n",
       "temp_min       27.000000     28.400000     39.000000  \n",
       "temp_max       27.000000     29.000000     39.800000  \n",
       "pressure     1010.200000   1011.900000   1023.200000  \n",
       "humidity       83.000000     88.000000    100.000000  \n",
       "wind_speed      3.600000      4.710000     31.900000  \n",
       "wind_deg      120.000000    250.000000    360.000000  \n",
       "rain_1h         0.240000      0.520000     19.100000  \n",
       "rain_3h         2.000000      7.000000    116.000000  \n",
       "rain_6h         0.000000      0.000000    206.000000  \n",
       "rain_12h      113.000000    222.000000    240.000000  \n",
       "rain_24h        5.100000     17.000000    255.000000  \n",
       "rain_today           NaN           NaN           NaN  \n",
       "snow_1h              NaN           NaN           NaN  \n",
       "snow_3h              NaN           NaN           NaN  \n",
       "snow_6h              NaN           NaN           NaN  \n",
       "snow_12h             NaN           NaN           NaN  \n",
       "snow_24h             NaN           NaN           NaN  \n",
       "snow_today           NaN           NaN           NaN  \n",
       "clouds_all     26.000000     40.000000    100.000000  \n",
       "weather_id    801.000000    802.000000    804.000000  "
      ]
     },
     "execution_count": 4,
     "metadata": {},
     "output_type": "execute_result"
    }
   ],
   "source": [
    "data.describe().transpose()"
   ]
  },
  {
   "attachments": {},
   "cell_type": "markdown",
   "metadata": {},
   "source": [
    "Upon conducting statistical measurements, it was observed that certain outliers were detected in the dataset. In order to ensure data integrity and reliability, a thorough investigation of these outliers will be carried out during the data cleansing phase."
   ]
  },
  {
   "attachments": {},
   "cell_type": "markdown",
   "metadata": {},
   "source": [
    "# Data Cleansing"
   ]
  },
  {
   "attachments": {},
   "cell_type": "markdown",
   "metadata": {},
   "source": [
    "Initially, we focused on selecting specific columns from the dataset for analysis, namely temperature, pressure, humidity, and wind speed. Additionally, our target variable of interest was the main weather condition. By narrowing down our variables to these key factors, we aimed to streamline our analysis and prioritize the essential elements for predicting and understanding the prevailing weather patterns."
   ]
  },
  {
   "cell_type": "code",
   "execution_count": 5,
   "metadata": {},
   "outputs": [
    {
     "data": {
      "text/html": [
       "<div>\n",
       "<style scoped>\n",
       "    .dataframe tbody tr th:only-of-type {\n",
       "        vertical-align: middle;\n",
       "    }\n",
       "\n",
       "    .dataframe tbody tr th {\n",
       "        vertical-align: top;\n",
       "    }\n",
       "\n",
       "    .dataframe thead th {\n",
       "        text-align: right;\n",
       "    }\n",
       "</style>\n",
       "<table border=\"1\" class=\"dataframe\">\n",
       "  <thead>\n",
       "    <tr style=\"text-align: right;\">\n",
       "      <th></th>\n",
       "      <th>dt_iso</th>\n",
       "      <th>temp</th>\n",
       "      <th>temp_min</th>\n",
       "      <th>temp_max</th>\n",
       "      <th>pressure</th>\n",
       "      <th>humidity</th>\n",
       "      <th>wind_speed</th>\n",
       "      <th>weather_main</th>\n",
       "    </tr>\n",
       "  </thead>\n",
       "  <tbody>\n",
       "    <tr>\n",
       "      <th>0</th>\n",
       "      <td>1/1/1990 0:00</td>\n",
       "      <td>25.82</td>\n",
       "      <td>25.82</td>\n",
       "      <td>25.82</td>\n",
       "      <td>1010.0</td>\n",
       "      <td>86</td>\n",
       "      <td>1.36</td>\n",
       "      <td>Rain</td>\n",
       "    </tr>\n",
       "    <tr>\n",
       "      <th>1</th>\n",
       "      <td>1/1/1990 1:00</td>\n",
       "      <td>26.20</td>\n",
       "      <td>26.20</td>\n",
       "      <td>26.20</td>\n",
       "      <td>1011.0</td>\n",
       "      <td>84</td>\n",
       "      <td>2.09</td>\n",
       "      <td>Rain</td>\n",
       "    </tr>\n",
       "    <tr>\n",
       "      <th>2</th>\n",
       "      <td>1/1/1990 2:00</td>\n",
       "      <td>26.45</td>\n",
       "      <td>26.45</td>\n",
       "      <td>26.45</td>\n",
       "      <td>1011.0</td>\n",
       "      <td>84</td>\n",
       "      <td>2.44</td>\n",
       "      <td>Rain</td>\n",
       "    </tr>\n",
       "    <tr>\n",
       "      <th>3</th>\n",
       "      <td>1/1/1990 3:00</td>\n",
       "      <td>26.80</td>\n",
       "      <td>26.80</td>\n",
       "      <td>26.80</td>\n",
       "      <td>1011.0</td>\n",
       "      <td>82</td>\n",
       "      <td>2.29</td>\n",
       "      <td>Rain</td>\n",
       "    </tr>\n",
       "    <tr>\n",
       "      <th>4</th>\n",
       "      <td>1/1/1990 4:00</td>\n",
       "      <td>27.04</td>\n",
       "      <td>27.04</td>\n",
       "      <td>27.04</td>\n",
       "      <td>1010.0</td>\n",
       "      <td>82</td>\n",
       "      <td>1.71</td>\n",
       "      <td>Clouds</td>\n",
       "    </tr>\n",
       "  </tbody>\n",
       "</table>\n",
       "</div>"
      ],
      "text/plain": [
       "          dt_iso   temp  temp_min  temp_max  pressure  humidity  wind_speed  \\\n",
       "0  1/1/1990 0:00  25.82     25.82     25.82    1010.0        86        1.36   \n",
       "1  1/1/1990 1:00  26.20     26.20     26.20    1011.0        84        2.09   \n",
       "2  1/1/1990 2:00  26.45     26.45     26.45    1011.0        84        2.44   \n",
       "3  1/1/1990 3:00  26.80     26.80     26.80    1011.0        82        2.29   \n",
       "4  1/1/1990 4:00  27.04     27.04     27.04    1010.0        82        1.71   \n",
       "\n",
       "  weather_main  \n",
       "0         Rain  \n",
       "1         Rain  \n",
       "2         Rain  \n",
       "3         Rain  \n",
       "4       Clouds  "
      ]
     },
     "execution_count": 5,
     "metadata": {},
     "output_type": "execute_result"
    }
   ],
   "source": [
    "#Selecting Data\n",
    "data_selected = data[['dt_iso','temp', 'temp_min', 'temp_max','pressure','humidity','wind_speed','weather_main']]\n",
    "data_selected.head(5)"
   ]
  },
  {
   "attachments": {},
   "cell_type": "markdown",
   "metadata": {},
   "source": [
    "Next, we will check is there any null values in our dataset"
   ]
  },
  {
   "cell_type": "code",
   "execution_count": 6,
   "metadata": {},
   "outputs": [
    {
     "name": "stdout",
     "output_type": "stream",
     "text": [
      "<class 'pandas.core.frame.DataFrame'>\n",
      "RangeIndex: 264924 entries, 0 to 264923\n",
      "Data columns (total 8 columns):\n",
      " #   Column        Non-Null Count   Dtype  \n",
      "---  ------        --------------   -----  \n",
      " 0   dt_iso        264924 non-null  object \n",
      " 1   temp          264924 non-null  float64\n",
      " 2   temp_min      264924 non-null  float64\n",
      " 3   temp_max      264924 non-null  float64\n",
      " 4   pressure      264924 non-null  float64\n",
      " 5   humidity      264924 non-null  int64  \n",
      " 6   wind_speed    264924 non-null  float64\n",
      " 7   weather_main  264924 non-null  object \n",
      "dtypes: float64(5), int64(1), object(2)\n",
      "memory usage: 16.2+ MB\n"
     ]
    }
   ],
   "source": [
    "data_selected.info()"
   ]
  },
  {
   "attachments": {},
   "cell_type": "markdown",
   "metadata": {},
   "source": [
    "As we have date objects, we will attempt to convert them from the object type to the date type."
   ]
  },
  {
   "cell_type": "code",
   "execution_count": 7,
   "metadata": {},
   "outputs": [
    {
     "name": "stderr",
     "output_type": "stream",
     "text": [
      "C:\\Users\\aryab\\AppData\\Local\\Temp\\ipykernel_628\\346312764.py:1: SettingWithCopyWarning: \n",
      "A value is trying to be set on a copy of a slice from a DataFrame.\n",
      "Try using .loc[row_indexer,col_indexer] = value instead\n",
      "\n",
      "See the caveats in the documentation: https://pandas.pydata.org/pandas-docs/stable/user_guide/indexing.html#returning-a-view-versus-a-copy\n",
      "  data_selected['dt_iso'] = data_selected['dt_iso'].apply(lambda x: datetime.strptime(x, \"%m/%d/%Y %H:%M\").date())\n"
     ]
    }
   ],
   "source": [
    "#Change into specific format\n",
    "data_selected['dt_iso'] = data_selected['dt_iso'].apply(lambda x: datetime.strptime(x, \"%m/%d/%Y %H:%M\").date())"
   ]
  },
  {
   "cell_type": "code",
   "execution_count": 8,
   "metadata": {},
   "outputs": [
    {
     "name": "stdout",
     "output_type": "stream",
     "text": [
      "<class 'pandas.core.frame.DataFrame'>\n",
      "RangeIndex: 264924 entries, 0 to 264923\n",
      "Data columns (total 8 columns):\n",
      " #   Column        Non-Null Count   Dtype  \n",
      "---  ------        --------------   -----  \n",
      " 0   dt_iso        264924 non-null  object \n",
      " 1   temp          264924 non-null  float64\n",
      " 2   temp_min      264924 non-null  float64\n",
      " 3   temp_max      264924 non-null  float64\n",
      " 4   pressure      264924 non-null  float64\n",
      " 5   humidity      264924 non-null  int64  \n",
      " 6   wind_speed    264924 non-null  float64\n",
      " 7   weather_main  264924 non-null  object \n",
      "dtypes: float64(5), int64(1), object(2)\n",
      "memory usage: 16.2+ MB\n"
     ]
    }
   ],
   "source": [
    "data_selected.info()"
   ]
  },
  {
   "cell_type": "code",
   "execution_count": 9,
   "metadata": {},
   "outputs": [
    {
     "data": {
      "text/html": [
       "<div>\n",
       "<style scoped>\n",
       "    .dataframe tbody tr th:only-of-type {\n",
       "        vertical-align: middle;\n",
       "    }\n",
       "\n",
       "    .dataframe tbody tr th {\n",
       "        vertical-align: top;\n",
       "    }\n",
       "\n",
       "    .dataframe thead th {\n",
       "        text-align: right;\n",
       "    }\n",
       "</style>\n",
       "<table border=\"1\" class=\"dataframe\">\n",
       "  <thead>\n",
       "    <tr style=\"text-align: right;\">\n",
       "      <th></th>\n",
       "      <th>dt_iso</th>\n",
       "      <th>temp</th>\n",
       "      <th>temp_min</th>\n",
       "      <th>temp_max</th>\n",
       "      <th>pressure</th>\n",
       "      <th>humidity</th>\n",
       "      <th>wind_speed</th>\n",
       "      <th>weather_main</th>\n",
       "    </tr>\n",
       "  </thead>\n",
       "  <tbody>\n",
       "    <tr>\n",
       "      <th>0</th>\n",
       "      <td>1990-01-01</td>\n",
       "      <td>25.82</td>\n",
       "      <td>25.82</td>\n",
       "      <td>25.82</td>\n",
       "      <td>1010.0</td>\n",
       "      <td>86</td>\n",
       "      <td>1.36</td>\n",
       "      <td>Rain</td>\n",
       "    </tr>\n",
       "    <tr>\n",
       "      <th>1</th>\n",
       "      <td>1990-01-01</td>\n",
       "      <td>26.20</td>\n",
       "      <td>26.20</td>\n",
       "      <td>26.20</td>\n",
       "      <td>1011.0</td>\n",
       "      <td>84</td>\n",
       "      <td>2.09</td>\n",
       "      <td>Rain</td>\n",
       "    </tr>\n",
       "    <tr>\n",
       "      <th>2</th>\n",
       "      <td>1990-01-01</td>\n",
       "      <td>26.45</td>\n",
       "      <td>26.45</td>\n",
       "      <td>26.45</td>\n",
       "      <td>1011.0</td>\n",
       "      <td>84</td>\n",
       "      <td>2.44</td>\n",
       "      <td>Rain</td>\n",
       "    </tr>\n",
       "    <tr>\n",
       "      <th>3</th>\n",
       "      <td>1990-01-01</td>\n",
       "      <td>26.80</td>\n",
       "      <td>26.80</td>\n",
       "      <td>26.80</td>\n",
       "      <td>1011.0</td>\n",
       "      <td>82</td>\n",
       "      <td>2.29</td>\n",
       "      <td>Rain</td>\n",
       "    </tr>\n",
       "    <tr>\n",
       "      <th>4</th>\n",
       "      <td>1990-01-01</td>\n",
       "      <td>27.04</td>\n",
       "      <td>27.04</td>\n",
       "      <td>27.04</td>\n",
       "      <td>1010.0</td>\n",
       "      <td>82</td>\n",
       "      <td>1.71</td>\n",
       "      <td>Clouds</td>\n",
       "    </tr>\n",
       "  </tbody>\n",
       "</table>\n",
       "</div>"
      ],
      "text/plain": [
       "       dt_iso   temp  temp_min  temp_max  pressure  humidity  wind_speed  \\\n",
       "0  1990-01-01  25.82     25.82     25.82    1010.0        86        1.36   \n",
       "1  1990-01-01  26.20     26.20     26.20    1011.0        84        2.09   \n",
       "2  1990-01-01  26.45     26.45     26.45    1011.0        84        2.44   \n",
       "3  1990-01-01  26.80     26.80     26.80    1011.0        82        2.29   \n",
       "4  1990-01-01  27.04     27.04     27.04    1010.0        82        1.71   \n",
       "\n",
       "  weather_main  \n",
       "0         Rain  \n",
       "1         Rain  \n",
       "2         Rain  \n",
       "3         Rain  \n",
       "4       Clouds  "
      ]
     },
     "execution_count": 9,
     "metadata": {},
     "output_type": "execute_result"
    }
   ],
   "source": [
    "data_selected.head(5)"
   ]
  },
  {
   "attachments": {},
   "cell_type": "markdown",
   "metadata": {},
   "source": [
    "Our dataset does not contain any null values. Therefore, we can proceed with the next steps to address the presence of outliers in the data"
   ]
  },
  {
   "cell_type": "code",
   "execution_count": 10,
   "metadata": {},
   "outputs": [
    {
     "data": {
      "text/plain": [
       "{'whiskers': [<matplotlib.lines.Line2D at 0x20442156500>,\n",
       "  <matplotlib.lines.Line2D at 0x204421567d0>,\n",
       "  <matplotlib.lines.Line2D at 0x204421578e0>,\n",
       "  <matplotlib.lines.Line2D at 0x20442157bb0>,\n",
       "  <matplotlib.lines.Line2D at 0x2044219ccd0>,\n",
       "  <matplotlib.lines.Line2D at 0x2044219cfa0>,\n",
       "  <matplotlib.lines.Line2D at 0x2044219e080>,\n",
       "  <matplotlib.lines.Line2D at 0x2044219e350>,\n",
       "  <matplotlib.lines.Line2D at 0x2044219f430>,\n",
       "  <matplotlib.lines.Line2D at 0x2044219f700>],\n",
       " 'caps': [<matplotlib.lines.Line2D at 0x20442156aa0>,\n",
       "  <matplotlib.lines.Line2D at 0x20442156d70>,\n",
       "  <matplotlib.lines.Line2D at 0x20442157e80>,\n",
       "  <matplotlib.lines.Line2D at 0x2044219c190>,\n",
       "  <matplotlib.lines.Line2D at 0x2044219d270>,\n",
       "  <matplotlib.lines.Line2D at 0x2044219d540>,\n",
       "  <matplotlib.lines.Line2D at 0x2044219e620>,\n",
       "  <matplotlib.lines.Line2D at 0x2044219e8f0>,\n",
       "  <matplotlib.lines.Line2D at 0x2044219f9d0>,\n",
       "  <matplotlib.lines.Line2D at 0x2044219fca0>],\n",
       " 'boxes': [<matplotlib.lines.Line2D at 0x20442154f40>,\n",
       "  <matplotlib.lines.Line2D at 0x20442157610>,\n",
       "  <matplotlib.lines.Line2D at 0x2044219ca00>,\n",
       "  <matplotlib.lines.Line2D at 0x2044219ddb0>,\n",
       "  <matplotlib.lines.Line2D at 0x2044219f160>],\n",
       " 'medians': [<matplotlib.lines.Line2D at 0x20442157040>,\n",
       "  <matplotlib.lines.Line2D at 0x2044219c460>,\n",
       "  <matplotlib.lines.Line2D at 0x2044219d810>,\n",
       "  <matplotlib.lines.Line2D at 0x2044219ebc0>,\n",
       "  <matplotlib.lines.Line2D at 0x2044219ff70>],\n",
       " 'fliers': [<matplotlib.lines.Line2D at 0x20442157310>,\n",
       "  <matplotlib.lines.Line2D at 0x2044219c730>,\n",
       "  <matplotlib.lines.Line2D at 0x2044219dae0>,\n",
       "  <matplotlib.lines.Line2D at 0x2044219ee90>,\n",
       "  <matplotlib.lines.Line2D at 0x204421d4280>],\n",
       " 'means': []}"
      ]
     },
     "execution_count": 10,
     "metadata": {},
     "output_type": "execute_result"
    },
    {
     "data": {
      "image/png": "[encoded data removed]",
      "text/plain": [
       "<Figure size 720x720 with 1 Axes>"
      ]
     },
     "metadata": {
      "needs_background": "light"
     },
     "output_type": "display_data"
    }
   ],
   "source": [
    "#Plotting the boxplot\n",
    "plt.figure(figsize=(10,10))\n",
    "plt.xlabel('Column')\n",
    "plt.ylabel('Values')\n",
    "plt.title(\"Boxplot\")\n",
    "plt.boxplot(data_selected.iloc[:,1:6])"
   ]
  },
  {
   "attachments": {},
   "cell_type": "markdown",
   "metadata": {},
   "source": [
    "We will devide, because there are different scale, to give our understanding of the visualization"
   ]
  },
  {
   "cell_type": "code",
   "execution_count": 11,
   "metadata": {},
   "outputs": [
    {
     "data": {
      "text/plain": [
       "{'whiskers': [<matplotlib.lines.Line2D at 0x2041cfeee00>,\n",
       "  <matplotlib.lines.Line2D at 0x2044229bd90>,\n",
       "  <matplotlib.lines.Line2D at 0x204422cceb0>,\n",
       "  <matplotlib.lines.Line2D at 0x204422cd180>,\n",
       "  <matplotlib.lines.Line2D at 0x204422ce260>,\n",
       "  <matplotlib.lines.Line2D at 0x204422ce560>,\n",
       "  <matplotlib.lines.Line2D at 0x204422cf640>,\n",
       "  <matplotlib.lines.Line2D at 0x204422cf910>],\n",
       " 'caps': [<matplotlib.lines.Line2D at 0x204422cc0a0>,\n",
       "  <matplotlib.lines.Line2D at 0x204422cc370>,\n",
       "  <matplotlib.lines.Line2D at 0x204422cd450>,\n",
       "  <matplotlib.lines.Line2D at 0x204422cd720>,\n",
       "  <matplotlib.lines.Line2D at 0x204422ce830>,\n",
       "  <matplotlib.lines.Line2D at 0x204422ceb00>,\n",
       "  <matplotlib.lines.Line2D at 0x204422cfbe0>,\n",
       "  <matplotlib.lines.Line2D at 0x204422cfeb0>],\n",
       " 'boxes': [<matplotlib.lines.Line2D at 0x20447ba4d90>,\n",
       "  <matplotlib.lines.Line2D at 0x204422ccbe0>,\n",
       "  <matplotlib.lines.Line2D at 0x204422cdf90>,\n",
       "  <matplotlib.lines.Line2D at 0x204422cf370>],\n",
       " 'medians': [<matplotlib.lines.Line2D at 0x204422cc640>,\n",
       "  <matplotlib.lines.Line2D at 0x204422cd9f0>,\n",
       "  <matplotlib.lines.Line2D at 0x204422cedd0>,\n",
       "  <matplotlib.lines.Line2D at 0x204423041c0>],\n",
       " 'fliers': [<matplotlib.lines.Line2D at 0x204422cc910>,\n",
       "  <matplotlib.lines.Line2D at 0x204422cdcc0>,\n",
       "  <matplotlib.lines.Line2D at 0x204422cf0a0>,\n",
       "  <matplotlib.lines.Line2D at 0x20442304490>],\n",
       " 'means': []}"
      ]
     },
     "execution_count": 11,
     "metadata": {},
     "output_type": "execute_result"
    },
    {
     "data": {
      "image/png": "[encoded data removed]",
      "text/plain": [
       "<Figure size 720x720 with 1 Axes>"
      ]
     },
     "metadata": {
      "needs_background": "light"
     },
     "output_type": "display_data"
    }
   ],
   "source": [
    "#Plotting the boxplot\n",
    "plt.figure(figsize=(10,10))\n",
    "plt.xlabel('Column')\n",
    "plt.ylabel('Values')\n",
    "plt.title(\"Boxplot\")\n",
    "plt.boxplot(data_selected.iloc[:,[1,2,3,6]])"
   ]
  },
  {
   "cell_type": "code",
   "execution_count": 12,
   "metadata": {},
   "outputs": [
    {
     "data": {
      "text/plain": [
       "{'whiskers': [<matplotlib.lines.Line2D at 0x20442380400>,\n",
       "  <matplotlib.lines.Line2D at 0x204423806d0>],\n",
       " 'caps': [<matplotlib.lines.Line2D at 0x204423809a0>,\n",
       "  <matplotlib.lines.Line2D at 0x20442380c70>],\n",
       " 'boxes': [<matplotlib.lines.Line2D at 0x20442380130>],\n",
       " 'medians': [<matplotlib.lines.Line2D at 0x20442380f40>],\n",
       " 'fliers': [<matplotlib.lines.Line2D at 0x20442381210>],\n",
       " 'means': []}"
      ]
     },
     "execution_count": 12,
     "metadata": {},
     "output_type": "execute_result"
    },
    {
     "data": {
      "image/png": "[encoded data removed]",
      "text/plain": [
       "<Figure size 720x720 with 1 Axes>"
      ]
     },
     "metadata": {
      "needs_background": "light"
     },
     "output_type": "display_data"
    }
   ],
   "source": [
    "#Plotting the boxplot\n",
    "plt.figure(figsize=(10,10))\n",
    "plt.xlabel('Column')\n",
    "plt.ylabel('Values')\n",
    "plt.title(\"Boxplot\")\n",
    "plt.boxplot(data_selected.iloc[:,[4]])"
   ]
  },
  {
   "cell_type": "code",
   "execution_count": 13,
   "metadata": {},
   "outputs": [
    {
     "data": {
      "text/plain": [
       "{'whiskers': [<matplotlib.lines.Line2D at 0x204423cdc60>,\n",
       "  <matplotlib.lines.Line2D at 0x204423cdf30>],\n",
       " 'caps': [<matplotlib.lines.Line2D at 0x204423ce200>,\n",
       "  <matplotlib.lines.Line2D at 0x204423ce4d0>],\n",
       " 'boxes': [<matplotlib.lines.Line2D at 0x204423cd990>],\n",
       " 'medians': [<matplotlib.lines.Line2D at 0x204423ce7a0>],\n",
       " 'fliers': [<matplotlib.lines.Line2D at 0x204423cea70>],\n",
       " 'means': []}"
      ]
     },
     "execution_count": 13,
     "metadata": {},
     "output_type": "execute_result"
    },
    {
     "data": {
      "image/png": "[encoded data removed]",
      "text/plain": [
       "<Figure size 720x720 with 1 Axes>"
      ]
     },
     "metadata": {
      "needs_background": "light"
     },
     "output_type": "display_data"
    }
   ],
   "source": [
    "#Plotting the boxplot\n",
    "plt.figure(figsize=(10,10))\n",
    "plt.xlabel('Column')\n",
    "plt.ylabel('Values')\n",
    "plt.title(\"Boxplot\")\n",
    "plt.boxplot(data_selected.iloc[:,[5]])"
   ]
  },
  {
   "attachments": {},
   "cell_type": "markdown",
   "metadata": {},
   "source": [
    "From there, we will handle the outliers by replacing them with the upper and lower boundaries determined by the Boxplot method. The Boxplot method uses statistical measures such as the interquartile range (IQR) to identify the range within which most of the data points lie. Any data points falling outside this range are considered outliers."
   ]
  },
  {
   "cell_type": "code",
   "execution_count": 14,
   "metadata": {},
   "outputs": [],
   "source": [
    "#using for loop to replace the outliers\n",
    "for kolom in data_selected.iloc[:,1:6].columns:\n",
    "    lower = data_selected[kolom].quantile(0.25) - 1.5 * (data_selected[kolom].quantile(0.75) - data_selected[kolom].quantile(0.25))\n",
    "    upper = data_selected[kolom].quantile(0.75) + 1.5 * (data_selected[kolom].quantile(0.75) - data_selected[kolom].quantile(0.25))\n",
    "    data_selected.loc[data_selected[kolom] < lower, kolom] = lower\n",
    "    data_selected.loc[data_selected[kolom] > upper, kolom] = upper"
   ]
  },
  {
   "attachments": {},
   "cell_type": "markdown",
   "metadata": {},
   "source": [
    "After This recheck the outliers"
   ]
  },
  {
   "cell_type": "code",
   "execution_count": 15,
   "metadata": {},
   "outputs": [
    {
     "data": {
      "text/plain": [
       "{'whiskers': [<matplotlib.lines.Line2D at 0x2044241f850>,\n",
       "  <matplotlib.lines.Line2D at 0x2044241fb20>],\n",
       " 'caps': [<matplotlib.lines.Line2D at 0x2044241fdf0>,\n",
       "  <matplotlib.lines.Line2D at 0x2044244c100>],\n",
       " 'boxes': [<matplotlib.lines.Line2D at 0x2044241f580>],\n",
       " 'medians': [<matplotlib.lines.Line2D at 0x2044244c3d0>],\n",
       " 'fliers': [<matplotlib.lines.Line2D at 0x2044244c6a0>],\n",
       " 'means': []}"
      ]
     },
     "execution_count": 15,
     "metadata": {},
     "output_type": "execute_result"
    },
    {
     "data": {
      "image/png": "[encoded data removed]",
      "text/plain": [
       "<Figure size 720x720 with 1 Axes>"
      ]
     },
     "metadata": {
      "needs_background": "light"
     },
     "output_type": "display_data"
    }
   ],
   "source": [
    "#Plotting the boxplot\n",
    "plt.figure(figsize=(10,10))\n",
    "plt.xlabel('Column')\n",
    "plt.ylabel('Values')\n",
    "plt.title(\"Boxplot\")\n",
    "plt.boxplot(data_selected.iloc[:,[5]])"
   ]
  },
  {
   "attachments": {},
   "cell_type": "markdown",
   "metadata": {},
   "source": [
    "# Exploratory Data Analysis (EDA)"
   ]
  },
  {
   "attachments": {},
   "cell_type": "markdown",
   "metadata": {},
   "source": [
    "Next, we aim to further explore the data through visualization techniques. Visualization plays a crucial role in gaining insights and understanding patterns within the dataset. By employing various visualizations such as plots, charts, and graphs, we can effectively communicate and interpret the information contained in the data. Visualizations offer a comprehensive view of the variables, relationships, trends, and distributions present in the dataset, enabling us to identify patterns, outliers, correlations, and other relevant insights. This visual exploration will provide us with a clearer understanding of the data and aid in making informed decisions during the analysis process."
   ]
  },
  {
   "cell_type": "code",
   "execution_count": 16,
   "metadata": {},
   "outputs": [
    {
     "name": "stderr",
     "output_type": "stream",
     "text": [
      "C:\\Users\\aryab\\AppData\\Local\\Temp\\ipykernel_628\\2871109257.py:1: SettingWithCopyWarning: \n",
      "A value is trying to be set on a copy of a slice from a DataFrame.\n",
      "Try using .loc[row_indexer,col_indexer] = value instead\n",
      "\n",
      "See the caveats in the documentation: https://pandas.pydata.org/pandas-docs/stable/user_guide/indexing.html#returning-a-view-versus-a-copy\n",
      "  data_selected['Year'] = data_selected['dt_iso'].astype(str)\n",
      "C:\\Users\\aryab\\AppData\\Local\\Temp\\ipykernel_628\\2871109257.py:2: SettingWithCopyWarning: \n",
      "A value is trying to be set on a copy of a slice from a DataFrame.\n",
      "Try using .loc[row_indexer,col_indexer] = value instead\n",
      "\n",
      "See the caveats in the documentation: https://pandas.pydata.org/pandas-docs/stable/user_guide/indexing.html#returning-a-view-versus-a-copy\n",
      "  data_selected['Year']  = data_selected['Year'] .str.slice(0, 4)\n"
     ]
    },
    {
     "data": {
      "image/png": "[encoded data removed]",
      "text/plain": [
       "<Figure size 720x720 with 1 Axes>"
      ]
     },
     "metadata": {
      "needs_background": "light"
     },
     "output_type": "display_data"
    }
   ],
   "source": [
    "#Change Data type and group by specific year\n",
    "data_selected['Year'] = data_selected['dt_iso'].astype(str)\n",
    "data_selected['Year']  = data_selected['Year'] .str.slice(0, 4)\n",
    "data_per_tahun = data_selected.groupby(['Year'])['temp'].mean()\n",
    "\n",
    "#Plotting the data\n",
    "plt.figure(figsize=(10,10))\n",
    "data_per_tahun.plot()\n",
    "plt.xlabel('Year')\n",
    "plt.title(\"Average Temperature By Year in Bali\")\n",
    "plt.ylabel('Average Temperature')\n",
    "plt.show()"
   ]
  },
  {
   "attachments": {},
   "cell_type": "markdown",
   "metadata": {},
   "source": [
    "Based on the above graph, it is observed that the temperature increases over time and reaches its peak at around 28 to 28.5 degrees Celsius. This could be attributed to global warming and the increased activity in Bali during that period. The rising temperature trend indicates a potential impact of global warming on the local climate. The higher temperature levels may be influenced by various factors such as increased greenhouse gas emissions, urbanization, and human activities. It is important to monitor and address these changes to mitigate the potential impacts on the environment and human well-being."
   ]
  },
  {
   "cell_type": "code",
   "execution_count": 17,
   "metadata": {},
   "outputs": [
    {
     "data": {
      "image/png": "[encoded data removed]",
      "text/plain": [
       "<Figure size 720x720 with 1 Axes>"
      ]
     },
     "metadata": {
      "needs_background": "light"
     },
     "output_type": "display_data"
    }
   ],
   "source": [
    "data_per_tahun = data_selected.groupby(['Year'])['pressure'].mean()\n",
    "#Plotting the data\n",
    "plt.figure(figsize=(10,10))\n",
    "data_per_tahun.plot()\n",
    "plt.xlabel('Year')\n",
    "plt.title(\"Average Pressure By Year in Bali\")\n",
    "plt.ylabel('Average Pressure')\n",
    "plt.show()"
   ]
  },
  {
   "attachments": {},
   "cell_type": "markdown",
   "metadata": {},
   "source": [
    "The above graph reveals a significant decrease in air pressure in Bali. This phenomenon could be attributed to various factors, including a decrease in ground elevation or influences from other variables such as temperature and humidity. A lower air pressure reading may indicate changes in atmospheric conditions and can be linked to alterations in weather patterns. It is important to further investigate the potential causes and impacts of this observed decrease in air pressure to better understand its implications for the local climate and environment."
   ]
  },
  {
   "cell_type": "code",
   "execution_count": 18,
   "metadata": {},
   "outputs": [
    {
     "data": {
      "image/png": "[encoded data removed]",
      "text/plain": [
       "<Figure size 720x720 with 1 Axes>"
      ]
     },
     "metadata": {
      "needs_background": "light"
     },
     "output_type": "display_data"
    }
   ],
   "source": [
    "data_per_tahun = data_selected.groupby(['Year'])['humidity'].mean()\n",
    "\n",
    "#Plotting the data\n",
    "plt.figure(figsize=(10,10))\n",
    "data_per_tahun.plot()\n",
    "plt.xlabel('Year')\n",
    "plt.title(\"Average Humidity By Year in Bali\")\n",
    "plt.ylabel('Average Humidity')\n",
    "plt.show()"
   ]
  },
  {
   "attachments": {},
   "cell_type": "markdown",
   "metadata": {},
   "source": [
    "The above graph reveals a significant increase in humidity in Bali. This rise can be attributed to various factors, including temperature, air pressure, wind patterns, quantity and quality of sunlight, and vegetation. These factors interact in complex ways and contribute to the overall moisture content in the atmosphere. An increase in humidity can have implications for various aspects of the environment, such as plant growth, water availability, and weather patterns."
   ]
  },
  {
   "cell_type": "code",
   "execution_count": 19,
   "metadata": {},
   "outputs": [
    {
     "data": {
      "image/png": "[encoded data removed]",
      "text/plain": [
       "<Figure size 720x720 with 1 Axes>"
      ]
     },
     "metadata": {
      "needs_background": "light"
     },
     "output_type": "display_data"
    }
   ],
   "source": [
    "data_per_tahun = data_selected.groupby(['Year'])['wind_speed'].mean()\n",
    "\n",
    "#Plotting the data\n",
    "plt.figure(figsize=(10,10))\n",
    "data_per_tahun.plot()\n",
    "plt.xlabel('Year')\n",
    "plt.title(\"Average Wind Speed By Year in Bali\")\n",
    "plt.ylabel('Average Wind Speed')\n",
    "plt.show()"
   ]
  },
  {
   "attachments": {},
   "cell_type": "markdown",
   "metadata": {},
   "source": [
    "The above graph reveals a significant increase in wind speed in Bali. This rise can be attributed to various factors, such as atmospheric pressure differentials, local topography, and regional weather patterns. Wind speed is influenced by the movement of air masses, which can be driven by temperature variations and pressure gradients. The observed increase in wind speed indicates a change in the prevailing wind patterns and can have implications for various sectors, including agriculture, transportation, and energy production."
   ]
  },
  {
   "cell_type": "code",
   "execution_count": 20,
   "metadata": {},
   "outputs": [
    {
     "data": {
      "text/plain": [
       "array([[<AxesSubplot:title={'center':'temp'}>,\n",
       "        <AxesSubplot:title={'center':'temp_min'}>],\n",
       "       [<AxesSubplot:title={'center':'temp_max'}>,\n",
       "        <AxesSubplot:title={'center':'pressure'}>],\n",
       "       [<AxesSubplot:title={'center':'humidity'}>,\n",
       "        <AxesSubplot:title={'center':'wind_speed'}>]], dtype=object)"
      ]
     },
     "execution_count": 20,
     "metadata": {},
     "output_type": "execute_result"
    },
    {
     "data": {
      "image/png": "[encoded data removed]",
      "text/plain": [
       "<Figure size 720x720 with 6 Axes>"
      ]
     },
     "metadata": {
      "needs_background": "light"
     },
     "output_type": "display_data"
    }
   ],
   "source": [
    "#Plotting the data\n",
    "data_selected.iloc[:,1:8].hist(figsize=(10,10))"
   ]
  },
  {
   "attachments": {},
   "cell_type": "markdown",
   "metadata": {},
   "source": [
    "The above graph indicates that the distribution of the data tends to follow a normal distribution, except for the wind speed variable. The majority of the variables exhibit a relatively symmetrical distribution with a peak around the mean value, suggesting a balanced distribution of data points. However, the wind speed variable displays a skewed distribution, indicating that the data is not evenly spread around the mean."
   ]
  },
  {
   "cell_type": "code",
   "execution_count": 21,
   "metadata": {},
   "outputs": [
    {
     "data": {
      "image/png": "[encoded data removed]",
      "text/plain": [
       "<Figure size 1080x720 with 1 Axes>"
      ]
     },
     "metadata": {
      "needs_background": "light"
     },
     "output_type": "display_data"
    }
   ],
   "source": [
    "#Plotting the data\n",
    "kategori_counts = data_selected['weather_main'].value_counts()\n",
    "plt.figure(figsize=(15,10))\n",
    "plt.bar(kategori_counts.index, kategori_counts.values)\n",
    "\n",
    "plt.xlabel('Category')\n",
    "plt.ylabel('Frequency')\n",
    "plt.title(\"Number of Weather Categories\")\n",
    "\n",
    "plt.show()"
   ]
  },
  {
   "attachments": {},
   "cell_type": "markdown",
   "metadata": {},
   "source": [
    "The above graph reveals that there are numerous categories present in our dataset. To simplify the analysis, it is necessary to perform data normalization by reducing the number of categories to just two.\n",
    "\n",
    "By condensing the categories into two groups, we can simplify the analysis process and focus on the key factors that differentiate the data. This reduction can help in comparing and contrasting the two major categories, identifying patterns, and gaining insights into the underlying trends."
   ]
  },
  {
   "attachments": {},
   "cell_type": "markdown",
   "metadata": {},
   "source": [
    "# Data Preporcessing"
   ]
  },
  {
   "attachments": {},
   "cell_type": "markdown",
   "metadata": {},
   "source": [
    "Next, we would like to perform additional data processing tasks on our dataset. These tasks include conducting correlation analysis and applying one-hot encoding.By performing correlation analysis, Rebalancing Data and applying one-hot encoding, we aim to enhance our understanding of the relationships between variables and ensure that our dataset is appropriately prepared for subsequent analysis and modeling tasks."
   ]
  },
  {
   "cell_type": "code",
   "execution_count": 22,
   "metadata": {},
   "outputs": [
    {
     "name": "stderr",
     "output_type": "stream",
     "text": [
      "C:\\Users\\aryab\\AppData\\Local\\Temp\\ipykernel_628\\1634840765.py:2: SettingWithCopyWarning: \n",
      "A value is trying to be set on a copy of a slice from a DataFrame\n",
      "\n",
      "See the caveats in the documentation: https://pandas.pydata.org/pandas-docs/stable/user_guide/indexing.html#returning-a-view-versus-a-copy\n",
      "  data_selected['weather_main'].replace(encode, inplace=True)\n"
     ]
    }
   ],
   "source": [
    "#Make the encode\n",
    "encode = {'Clouds': 0, 'Clear': 0,'Haze':0,'Mist':0,'Smoke': 0, 'Fog': 0,'Dust':0,'Ash':0,'Rain': 1, 'Thunderstorm': 1,'Tornado':1,'Drizzle':1,'Squall': 1}\n",
    "data_selected['weather_main'].replace(encode, inplace=True)"
   ]
  },
  {
   "attachments": {},
   "cell_type": "markdown",
   "metadata": {},
   "source": [
    "After that we can check the data"
   ]
  },
  {
   "cell_type": "code",
   "execution_count": 23,
   "metadata": {},
   "outputs": [
    {
     "data": {
      "text/plain": [
       "0    225279\n",
       "1     39645\n",
       "Name: weather_main, dtype: int64"
      ]
     },
     "execution_count": 23,
     "metadata": {},
     "output_type": "execute_result"
    }
   ],
   "source": [
    "#Counting Values\n",
    "data_selected['weather_main'].value_counts()"
   ]
  },
  {
   "cell_type": "code",
   "execution_count": 24,
   "metadata": {},
   "outputs": [
    {
     "data": {
      "image/png": "[encoded data removed]",
      "text/plain": [
       "<Figure size 1080x720 with 1 Axes>"
      ]
     },
     "metadata": {
      "needs_background": "light"
     },
     "output_type": "display_data"
    }
   ],
   "source": [
    "#Plotting Data\n",
    "kategori_counts = data_selected['weather_main'].value_counts()\n",
    "plt.figure(figsize=(15,10))\n",
    "plt.bar(kategori_counts.index, kategori_counts.values)\n",
    "\n",
    "plt.xlabel('Category')\n",
    "plt.ylabel('Frequency')\n",
    "plt.title(\"Number of Weather Categories\")\n",
    "\n",
    "plt.show()"
   ]
  },
  {
   "attachments": {},
   "cell_type": "markdown",
   "metadata": {},
   "source": [
    "Upon observation, it is evident that the dataset is imbalanced, meaning that the distribution of classes or categories is uneven. To address this issue, we need to perform some dataset rebalancing techniques.To rebalance the dataset, we will apply appropriate rebalancing techniques depending on the specific characteristics of our data and the desired outcome. By achieving a more balanced dataset, we can improve the performance and fairness of our models when dealing with imbalanced class distributions. On these case we will do oversampling method, but before that, we are going to see the correlation between the predictors to target"
   ]
  },
  {
   "cell_type": "code",
   "execution_count": 25,
   "metadata": {},
   "outputs": [
    {
     "data": {
      "text/plain": [
       "Text(0.5, 1.0, 'Data Correlation')"
      ]
     },
     "execution_count": 25,
     "metadata": {},
     "output_type": "execute_result"
    },
    {
     "data": {
      "image/png": "[encoded data removed]",
      "text/plain": [
       "<Figure size 1152x720 with 2 Axes>"
      ]
     },
     "metadata": {
      "needs_background": "light"
     },
     "output_type": "display_data"
    }
   ],
   "source": [
    "#Plotting Data\n",
    "plt.figure(figsize=(16,10))\n",
    "heatmap = sns.heatmap(data_selected.corr(), vmin=-1, vmax=1, annot=True)\n",
    "heatmap.set_title('Data Correlation', fontdict={'fontsize':12}, pad=12)"
   ]
  },
  {
   "attachments": {},
   "cell_type": "markdown",
   "metadata": {},
   "source": [
    "Based on the correlation chart above, it is evident that temperature, minimum temperature, and maximum temperature exhibit a high degree of correlation. This raises concerns about the possibility of multicollinearity. To address this issue, we have decided to remove the variables of minimum temperature and maximum temperature from the analysis. Additionally, we will also exclude the wind speed variable as it shows very low correlation with the target variable."
   ]
  },
  {
   "cell_type": "code",
   "execution_count": 26,
   "metadata": {},
   "outputs": [],
   "source": [
    "#Select the data\n",
    "data_fix = data_selected[['temp','pressure','humidity','weather_main']]"
   ]
  },
  {
   "cell_type": "code",
   "execution_count": 27,
   "metadata": {},
   "outputs": [
    {
     "data": {
      "text/html": [
       "<div>\n",
       "<style scoped>\n",
       "    .dataframe tbody tr th:only-of-type {\n",
       "        vertical-align: middle;\n",
       "    }\n",
       "\n",
       "    .dataframe tbody tr th {\n",
       "        vertical-align: top;\n",
       "    }\n",
       "\n",
       "    .dataframe thead th {\n",
       "        text-align: right;\n",
       "    }\n",
       "</style>\n",
       "<table border=\"1\" class=\"dataframe\">\n",
       "  <thead>\n",
       "    <tr style=\"text-align: right;\">\n",
       "      <th></th>\n",
       "      <th>temp</th>\n",
       "      <th>pressure</th>\n",
       "      <th>humidity</th>\n",
       "      <th>weather_main</th>\n",
       "    </tr>\n",
       "  </thead>\n",
       "  <tbody>\n",
       "    <tr>\n",
       "      <th>0</th>\n",
       "      <td>25.82</td>\n",
       "      <td>1010.0</td>\n",
       "      <td>86</td>\n",
       "      <td>1</td>\n",
       "    </tr>\n",
       "    <tr>\n",
       "      <th>1</th>\n",
       "      <td>26.20</td>\n",
       "      <td>1011.0</td>\n",
       "      <td>84</td>\n",
       "      <td>1</td>\n",
       "    </tr>\n",
       "    <tr>\n",
       "      <th>2</th>\n",
       "      <td>26.45</td>\n",
       "      <td>1011.0</td>\n",
       "      <td>84</td>\n",
       "      <td>1</td>\n",
       "    </tr>\n",
       "    <tr>\n",
       "      <th>3</th>\n",
       "      <td>26.80</td>\n",
       "      <td>1011.0</td>\n",
       "      <td>82</td>\n",
       "      <td>1</td>\n",
       "    </tr>\n",
       "    <tr>\n",
       "      <th>4</th>\n",
       "      <td>27.04</td>\n",
       "      <td>1010.0</td>\n",
       "      <td>82</td>\n",
       "      <td>0</td>\n",
       "    </tr>\n",
       "    <tr>\n",
       "      <th>5</th>\n",
       "      <td>27.23</td>\n",
       "      <td>1009.0</td>\n",
       "      <td>82</td>\n",
       "      <td>0</td>\n",
       "    </tr>\n",
       "    <tr>\n",
       "      <th>6</th>\n",
       "      <td>27.32</td>\n",
       "      <td>1008.0</td>\n",
       "      <td>82</td>\n",
       "      <td>0</td>\n",
       "    </tr>\n",
       "    <tr>\n",
       "      <th>7</th>\n",
       "      <td>27.29</td>\n",
       "      <td>1008.0</td>\n",
       "      <td>82</td>\n",
       "      <td>1</td>\n",
       "    </tr>\n",
       "    <tr>\n",
       "      <th>8</th>\n",
       "      <td>27.34</td>\n",
       "      <td>1007.0</td>\n",
       "      <td>81</td>\n",
       "      <td>1</td>\n",
       "    </tr>\n",
       "    <tr>\n",
       "      <th>9</th>\n",
       "      <td>27.23</td>\n",
       "      <td>1007.0</td>\n",
       "      <td>82</td>\n",
       "      <td>0</td>\n",
       "    </tr>\n",
       "  </tbody>\n",
       "</table>\n",
       "</div>"
      ],
      "text/plain": [
       "    temp  pressure  humidity  weather_main\n",
       "0  25.82    1010.0        86             1\n",
       "1  26.20    1011.0        84             1\n",
       "2  26.45    1011.0        84             1\n",
       "3  26.80    1011.0        82             1\n",
       "4  27.04    1010.0        82             0\n",
       "5  27.23    1009.0        82             0\n",
       "6  27.32    1008.0        82             0\n",
       "7  27.29    1008.0        82             1\n",
       "8  27.34    1007.0        81             1\n",
       "9  27.23    1007.0        82             0"
      ]
     },
     "execution_count": 27,
     "metadata": {},
     "output_type": "execute_result"
    }
   ],
   "source": [
    "data_fix.head(10)"
   ]
  },
  {
   "attachments": {},
   "cell_type": "markdown",
   "metadata": {},
   "source": [
    "After that, we will perform data splitting to split the dataset into X and Y"
   ]
  },
  {
   "cell_type": "code",
   "execution_count": 28,
   "metadata": {},
   "outputs": [],
   "source": [
    "#Split data into X and Y\n",
    "X = data_fix.drop('weather_main',axis=1).copy()\n",
    "y = data_fix['weather_main'].copy()"
   ]
  },
  {
   "attachments": {},
   "cell_type": "markdown",
   "metadata": {},
   "source": [
    "Recheck the data"
   ]
  },
  {
   "cell_type": "code",
   "execution_count": 29,
   "metadata": {},
   "outputs": [
    {
     "data": {
      "text/html": [
       "<div>\n",
       "<style scoped>\n",
       "    .dataframe tbody tr th:only-of-type {\n",
       "        vertical-align: middle;\n",
       "    }\n",
       "\n",
       "    .dataframe tbody tr th {\n",
       "        vertical-align: top;\n",
       "    }\n",
       "\n",
       "    .dataframe thead th {\n",
       "        text-align: right;\n",
       "    }\n",
       "</style>\n",
       "<table border=\"1\" class=\"dataframe\">\n",
       "  <thead>\n",
       "    <tr style=\"text-align: right;\">\n",
       "      <th></th>\n",
       "      <th>temp</th>\n",
       "      <th>pressure</th>\n",
       "      <th>humidity</th>\n",
       "    </tr>\n",
       "  </thead>\n",
       "  <tbody>\n",
       "    <tr>\n",
       "      <th>0</th>\n",
       "      <td>25.82</td>\n",
       "      <td>1010.0</td>\n",
       "      <td>86</td>\n",
       "    </tr>\n",
       "    <tr>\n",
       "      <th>1</th>\n",
       "      <td>26.20</td>\n",
       "      <td>1011.0</td>\n",
       "      <td>84</td>\n",
       "    </tr>\n",
       "    <tr>\n",
       "      <th>2</th>\n",
       "      <td>26.45</td>\n",
       "      <td>1011.0</td>\n",
       "      <td>84</td>\n",
       "    </tr>\n",
       "    <tr>\n",
       "      <th>3</th>\n",
       "      <td>26.80</td>\n",
       "      <td>1011.0</td>\n",
       "      <td>82</td>\n",
       "    </tr>\n",
       "    <tr>\n",
       "      <th>4</th>\n",
       "      <td>27.04</td>\n",
       "      <td>1010.0</td>\n",
       "      <td>82</td>\n",
       "    </tr>\n",
       "    <tr>\n",
       "      <th>5</th>\n",
       "      <td>27.23</td>\n",
       "      <td>1009.0</td>\n",
       "      <td>82</td>\n",
       "    </tr>\n",
       "    <tr>\n",
       "      <th>6</th>\n",
       "      <td>27.32</td>\n",
       "      <td>1008.0</td>\n",
       "      <td>82</td>\n",
       "    </tr>\n",
       "    <tr>\n",
       "      <th>7</th>\n",
       "      <td>27.29</td>\n",
       "      <td>1008.0</td>\n",
       "      <td>82</td>\n",
       "    </tr>\n",
       "    <tr>\n",
       "      <th>8</th>\n",
       "      <td>27.34</td>\n",
       "      <td>1007.0</td>\n",
       "      <td>81</td>\n",
       "    </tr>\n",
       "    <tr>\n",
       "      <th>9</th>\n",
       "      <td>27.23</td>\n",
       "      <td>1007.0</td>\n",
       "      <td>82</td>\n",
       "    </tr>\n",
       "  </tbody>\n",
       "</table>\n",
       "</div>"
      ],
      "text/plain": [
       "    temp  pressure  humidity\n",
       "0  25.82    1010.0        86\n",
       "1  26.20    1011.0        84\n",
       "2  26.45    1011.0        84\n",
       "3  26.80    1011.0        82\n",
       "4  27.04    1010.0        82\n",
       "5  27.23    1009.0        82\n",
       "6  27.32    1008.0        82\n",
       "7  27.29    1008.0        82\n",
       "8  27.34    1007.0        81\n",
       "9  27.23    1007.0        82"
      ]
     },
     "execution_count": 29,
     "metadata": {},
     "output_type": "execute_result"
    }
   ],
   "source": [
    "X.head(10)"
   ]
  },
  {
   "cell_type": "code",
   "execution_count": 30,
   "metadata": {},
   "outputs": [
    {
     "data": {
      "text/plain": [
       "0    1\n",
       "1    1\n",
       "2    1\n",
       "3    1\n",
       "4    0\n",
       "5    0\n",
       "6    0\n",
       "7    1\n",
       "8    1\n",
       "9    0\n",
       "Name: weather_main, dtype: int64"
      ]
     },
     "execution_count": 30,
     "metadata": {},
     "output_type": "execute_result"
    }
   ],
   "source": [
    "y.head(10)"
   ]
  },
  {
   "attachments": {},
   "cell_type": "markdown",
   "metadata": {},
   "source": [
    "Next we will try to do some rescaling dataset"
   ]
  },
  {
   "cell_type": "code",
   "execution_count": 31,
   "metadata": {},
   "outputs": [],
   "source": [
    "#Scale data\n",
    "scaler = StandardScaler()\n",
    "X_rescaled = scaler.fit_transform(X)"
   ]
  },
  {
   "cell_type": "code",
   "execution_count": 32,
   "metadata": {},
   "outputs": [
    {
     "data": {
      "text/plain": [
       "array([[-0.74626484, -0.01551165,  0.59163474],\n",
       "       [-0.55129126,  0.42361448,  0.36195185],\n",
       "       [-0.42301917,  0.42361448,  0.36195185],\n",
       "       ...,\n",
       "       [ 0.3722678 , -1.33289003,  0.24711041],\n",
       "       [ 0.3722678 , -1.33289003,  0.24711041],\n",
       "       [ 0.3722678 , -0.8937639 ,  0.24711041]])"
      ]
     },
     "execution_count": 32,
     "metadata": {},
     "output_type": "execute_result"
    }
   ],
   "source": [
    "X_rescaled"
   ]
  },
  {
   "attachments": {},
   "cell_type": "markdown",
   "metadata": {},
   "source": [
    "After that we will perform to do some oversampling method"
   ]
  },
  {
   "cell_type": "code",
   "execution_count": 33,
   "metadata": {},
   "outputs": [
    {
     "data": {
      "text/plain": [
       "Counter({1: 225279, 0: 225279})"
      ]
     },
     "execution_count": 33,
     "metadata": {},
     "output_type": "execute_result"
    }
   ],
   "source": [
    "#Oversampling data using SMOTE\n",
    "try_oversample = SMOTE()\n",
    "\n",
    "cek = SMOTE(sampling_strategy='minority')\n",
    "X_rebalance, y_rebalance = cek.fit_resample(X_rescaled,y)\n",
    "Counter(y_rebalance)"
   ]
  },
  {
   "cell_type": "code",
   "execution_count": 34,
   "metadata": {},
   "outputs": [
    {
     "data": {
      "text/plain": [
       "(array([225279.,      0.,      0.,      0.,      0.,      0.,      0.,\n",
       "             0.,      0., 225279.]),\n",
       " array([0. , 0.1, 0.2, 0.3, 0.4, 0.5, 0.6, 0.7, 0.8, 0.9, 1. ]),\n",
       " <BarContainer object of 10 artists>)"
      ]
     },
     "execution_count": 34,
     "metadata": {},
     "output_type": "execute_result"
    },
    {
     "data": {
      "image/png": "[encoded data removed]",
      "text/plain": [
       "<Figure size 432x288 with 1 Axes>"
      ]
     },
     "metadata": {
      "needs_background": "light"
     },
     "output_type": "display_data"
    }
   ],
   "source": [
    "plt.hist(y_rebalance)"
   ]
  },
  {
   "attachments": {},
   "cell_type": "markdown",
   "metadata": {},
   "source": [
    "Based on the analysis, it appears that the data is already balanced. The next step is to split the data into training and testing sets. We will allocate 80% of the data for training and the remaining 20% for testing."
   ]
  },
  {
   "cell_type": "code",
   "execution_count": 35,
   "metadata": {},
   "outputs": [],
   "source": [
    "#Split data into train and testing\n",
    "X_train, X_test, y_train, y_test = train_test_split(X_rebalance, y_rebalance, test_size=0.2, random_state=0)"
   ]
  },
  {
   "cell_type": "code",
   "execution_count": 36,
   "metadata": {},
   "outputs": [
    {
     "data": {
      "text/plain": [
       "(360446, 3)"
      ]
     },
     "execution_count": 36,
     "metadata": {},
     "output_type": "execute_result"
    }
   ],
   "source": [
    "X_train.shape"
   ]
  },
  {
   "cell_type": "code",
   "execution_count": 37,
   "metadata": {},
   "outputs": [
    {
     "data": {
      "text/plain": [
       "(360446,)"
      ]
     },
     "execution_count": 37,
     "metadata": {},
     "output_type": "execute_result"
    }
   ],
   "source": [
    "y_train.shape"
   ]
  },
  {
   "cell_type": "code",
   "execution_count": 38,
   "metadata": {},
   "outputs": [
    {
     "data": {
      "text/plain": [
       "(360446,)"
      ]
     },
     "execution_count": 38,
     "metadata": {},
     "output_type": "execute_result"
    }
   ],
   "source": [
    "y_train.shape"
   ]
  },
  {
   "cell_type": "code",
   "execution_count": 39,
   "metadata": {},
   "outputs": [
    {
     "data": {
      "text/plain": [
       "(90112,)"
      ]
     },
     "execution_count": 39,
     "metadata": {},
     "output_type": "execute_result"
    }
   ],
   "source": [
    "y_test.shape"
   ]
  },
  {
   "attachments": {},
   "cell_type": "markdown",
   "metadata": {},
   "source": [
    "Next, due to the large size of the dataset, it takes a significant amount of time to train the models. Therefore, we can apply PCA (Principal Component Analysis) to reduce the training time of the models. Once the dataset is transformed using PCA, we can train our models on the reduced feature space, which typically requires less computational resources and time compared to training on the original high-dimensional data.\n",
    "\n",
    "In summary, by applying PCA, we can effectively reduce the dimensionality of the dataset and subsequently decrease the training time required for the models, allowing us to expedite the model development process and improve efficiency in handling large datasets."
   ]
  },
  {
   "cell_type": "code",
   "execution_count": 40,
   "metadata": {},
   "outputs": [
    {
     "data": {
      "image/png": "[encoded data removed]",
      "text/plain": [
       "<Figure size 432x288 with 1 Axes>"
      ]
     },
     "metadata": {
      "needs_background": "light"
     },
     "output_type": "display_data"
    }
   ],
   "source": [
    "# Iniciate PCA\n",
    "pca = PCA()\n",
    "\n",
    "# Fit data to PCA\n",
    "pca.fit(data_fix)\n",
    "\n",
    "# Count eigenvalues\n",
    "eigenvalues = pca.explained_variance_\n",
    "\n",
    "# Plot Elbow Method\n",
    "plt.plot(np.arange(1, len(eigenvalues) + 1), eigenvalues)\n",
    "plt.xlabel('Number of Components')\n",
    "plt.ylabel('Eigenvalues')\n",
    "plt.title('Elbow Method')\n",
    "plt.show()"
   ]
  },
  {
   "attachments": {},
   "cell_type": "markdown",
   "metadata": {},
   "source": [
    "After that we will make the pipeline using PCA =2"
   ]
  },
  {
   "attachments": {},
   "cell_type": "markdown",
   "metadata": {},
   "source": [
    "# Model Building"
   ]
  },
  {
   "cell_type": "code",
   "execution_count": 41,
   "metadata": {},
   "outputs": [],
   "source": [
    "# Random Forest\n",
    "rf_model = RandomForestClassifier()"
   ]
  },
  {
   "cell_type": "code",
   "execution_count": 42,
   "metadata": {},
   "outputs": [],
   "source": [
    "#Support Vector Classifier\n",
    "model_naive = GaussianNB()"
   ]
  },
  {
   "attachments": {},
   "cell_type": "markdown",
   "metadata": {},
   "source": [
    "Next we will train the model based on our dataset"
   ]
  },
  {
   "attachments": {},
   "cell_type": "markdown",
   "metadata": {},
   "source": [
    "# Model Training"
   ]
  },
  {
   "attachments": {},
   "cell_type": "markdown",
   "metadata": {},
   "source": [
    "First we will make a pipeline"
   ]
  },
  {
   "cell_type": "code",
   "execution_count": 43,
   "metadata": {},
   "outputs": [],
   "source": [
    "#Defince PCA\n",
    "pca2=PCA(n_components=2)"
   ]
  },
  {
   "cell_type": "code",
   "execution_count": 44,
   "metadata": {},
   "outputs": [],
   "source": [
    "#Make First Pipeline\n",
    "pipeline = Pipeline([('pca', pca2), ('rf', rf_model)])"
   ]
  },
  {
   "cell_type": "code",
   "execution_count": 45,
   "metadata": {},
   "outputs": [],
   "source": [
    "#Make Second Pipeline\n",
    "pipeline2 = Pipeline([('pca', pca2), ('svc', model_naive)])"
   ]
  },
  {
   "attachments": {},
   "cell_type": "markdown",
   "metadata": {},
   "source": [
    "Next we will train our models"
   ]
  },
  {
   "cell_type": "code",
   "execution_count": 46,
   "metadata": {},
   "outputs": [
    {
     "data": {
      "text/html": [
       "<style>#sk-container-id-1 {color: black;background-color: white;}#sk-container-id-1 pre{padding: 0;}#sk-container-id-1 div.sk-toggleable {background-color: white;}#sk-container-id-1 label.sk-toggleable__label {cursor: pointer;display: block;width: 100%;margin-bottom: 0;padding: 0.3em;box-sizing: border-box;text-align: center;}#sk-container-id-1 label.sk-toggleable__label-arrow:before {content: \"▸\";float: left;margin-right: 0.25em;color: #696969;}#sk-container-id-1 label.sk-toggleable__label-arrow:hover:before {color: black;}#sk-container-id-1 div.sk-estimator:hover label.sk-toggleable__label-arrow:before {color: black;}#sk-container-id-1 div.sk-toggleable__content {max-height: 0;max-width: 0;overflow: hidden;text-align: left;background-color: #f0f8ff;}#sk-container-id-1 div.sk-toggleable__content pre {margin: 0.2em;color: black;border-radius: 0.25em;background-color: #f0f8ff;}#sk-container-id-1 input.sk-toggleable__control:checked~div.sk-toggleable__content {max-height: 200px;max-width: 100%;overflow: auto;}#sk-container-id-1 input.sk-toggleable__control:checked~label.sk-toggleable__label-arrow:before {content: \"▾\";}#sk-container-id-1 div.sk-estimator input.sk-toggleable__control:checked~label.sk-toggleable__label {background-color: #d4ebff;}#sk-container-id-1 div.sk-label input.sk-toggleable__control:checked~label.sk-toggleable__label {background-color: #d4ebff;}#sk-container-id-1 input.sk-hidden--visually {border: 0;clip: rect(1px 1px 1px 1px);clip: rect(1px, 1px, 1px, 1px);height: 1px;margin: -1px;overflow: hidden;padding: 0;position: absolute;width: 1px;}#sk-container-id-1 div.sk-estimator {font-family: monospace;background-color: #f0f8ff;border: 1px dotted black;border-radius: 0.25em;box-sizing: border-box;margin-bottom: 0.5em;}#sk-container-id-1 div.sk-estimator:hover {background-color: #d4ebff;}#sk-container-id-1 div.sk-parallel-item::after {content: \"\";width: 100%;border-bottom: 1px solid gray;flex-grow: 1;}#sk-container-id-1 div.sk-label:hover label.sk-toggleable__label {background-color: #d4ebff;}#sk-container-id-1 div.sk-serial::before {content: \"\";position: absolute;border-left: 1px solid gray;box-sizing: border-box;top: 0;bottom: 0;left: 50%;z-index: 0;}#sk-container-id-1 div.sk-serial {display: flex;flex-direction: column;align-items: center;background-color: white;padding-right: 0.2em;padding-left: 0.2em;position: relative;}#sk-container-id-1 div.sk-item {position: relative;z-index: 1;}#sk-container-id-1 div.sk-parallel {display: flex;align-items: stretch;justify-content: center;background-color: white;position: relative;}#sk-container-id-1 div.sk-item::before, #sk-container-id-1 div.sk-parallel-item::before {content: \"\";position: absolute;border-left: 1px solid gray;box-sizing: border-box;top: 0;bottom: 0;left: 50%;z-index: -1;}#sk-container-id-1 div.sk-parallel-item {display: flex;flex-direction: column;z-index: 1;position: relative;background-color: white;}#sk-container-id-1 div.sk-parallel-item:first-child::after {align-self: flex-end;width: 50%;}#sk-container-id-1 div.sk-parallel-item:last-child::after {align-self: flex-start;width: 50%;}#sk-container-id-1 div.sk-parallel-item:only-child::after {width: 0;}#sk-container-id-1 div.sk-dashed-wrapped {border: 1px dashed gray;margin: 0 0.4em 0.5em 0.4em;box-sizing: border-box;padding-bottom: 0.4em;background-color: white;}#sk-container-id-1 div.sk-label label {font-family: monospace;font-weight: bold;display: inline-block;line-height: 1.2em;}#sk-container-id-1 div.sk-label-container {text-align: center;}#sk-container-id-1 div.sk-container {/* jupyter's `normalize.less` sets `[hidden] { display: none; }` but bootstrap.min.css set `[hidden] { display: none !important; }` so we also need the `!important` here to be able to override the default hidden behavior on the sphinx rendered scikit-learn.org. See: https://github.com/scikit-learn/scikit-learn/issues/21755 */display: inline-block !important;position: relative;}#sk-container-id-1 div.sk-text-repr-fallback {display: none;}</style><div id=\"sk-container-id-1\" class=\"sk-top-container\"><div class=\"sk-text-repr-fallback\"><pre>Pipeline(steps=[(&#x27;pca&#x27;, PCA(n_components=2)), (&#x27;rf&#x27;, RandomForestClassifier())])</pre><b>In a Jupyter environment, please rerun this cell to show the HTML representation or trust the notebook. <br />On GitHub, the HTML representation is unable to render, please try loading this page with nbviewer.org.</b></div><div class=\"sk-container\" hidden><div class=\"sk-item sk-dashed-wrapped\"><div class=\"sk-label-container\"><div class=\"sk-label sk-toggleable\"><input class=\"sk-toggleable__control sk-hidden--visually\" id=\"sk-estimator-id-1\" type=\"checkbox\" ><label for=\"sk-estimator-id-1\" class=\"sk-toggleable__label sk-toggleable__label-arrow\">Pipeline</label><div class=\"sk-toggleable__content\"><pre>Pipeline(steps=[(&#x27;pca&#x27;, PCA(n_components=2)), (&#x27;rf&#x27;, RandomForestClassifier())])</pre></div></div></div><div class=\"sk-serial\"><div class=\"sk-item\"><div class=\"sk-estimator sk-toggleable\"><input class=\"sk-toggleable__control sk-hidden--visually\" id=\"sk-estimator-id-2\" type=\"checkbox\" ><label for=\"sk-estimator-id-2\" class=\"sk-toggleable__label sk-toggleable__label-arrow\">PCA</label><div class=\"sk-toggleable__content\"><pre>PCA(n_components=2)</pre></div></div></div><div class=\"sk-item\"><div class=\"sk-estimator sk-toggleable\"><input class=\"sk-toggleable__control sk-hidden--visually\" id=\"sk-estimator-id-3\" type=\"checkbox\" ><label for=\"sk-estimator-id-3\" class=\"sk-toggleable__label sk-toggleable__label-arrow\">RandomForestClassifier</label><div class=\"sk-toggleable__content\"><pre>RandomForestClassifier()</pre></div></div></div></div></div></div></div>"
      ],
      "text/plain": [
       "Pipeline(steps=[('pca', PCA(n_components=2)), ('rf', RandomForestClassifier())])"
      ]
     },
     "execution_count": 46,
     "metadata": {},
     "output_type": "execute_result"
    }
   ],
   "source": [
    "#Fit Pipeline\n",
    "pipeline.fit(X_train, y_train)"
   ]
  },
  {
   "cell_type": "code",
   "execution_count": 47,
   "metadata": {},
   "outputs": [
    {
     "data": {
      "text/html": [
       "<style>#sk-container-id-2 {color: black;background-color: white;}#sk-container-id-2 pre{padding: 0;}#sk-container-id-2 div.sk-toggleable {background-color: white;}#sk-container-id-2 label.sk-toggleable__label {cursor: pointer;display: block;width: 100%;margin-bottom: 0;padding: 0.3em;box-sizing: border-box;text-align: center;}#sk-container-id-2 label.sk-toggleable__label-arrow:before {content: \"▸\";float: left;margin-right: 0.25em;color: #696969;}#sk-container-id-2 label.sk-toggleable__label-arrow:hover:before {color: black;}#sk-container-id-2 div.sk-estimator:hover label.sk-toggleable__label-arrow:before {color: black;}#sk-container-id-2 div.sk-toggleable__content {max-height: 0;max-width: 0;overflow: hidden;text-align: left;background-color: #f0f8ff;}#sk-container-id-2 div.sk-toggleable__content pre {margin: 0.2em;color: black;border-radius: 0.25em;background-color: #f0f8ff;}#sk-container-id-2 input.sk-toggleable__control:checked~div.sk-toggleable__content {max-height: 200px;max-width: 100%;overflow: auto;}#sk-container-id-2 input.sk-toggleable__control:checked~label.sk-toggleable__label-arrow:before {content: \"▾\";}#sk-container-id-2 div.sk-estimator input.sk-toggleable__control:checked~label.sk-toggleable__label {background-color: #d4ebff;}#sk-container-id-2 div.sk-label input.sk-toggleable__control:checked~label.sk-toggleable__label {background-color: #d4ebff;}#sk-container-id-2 input.sk-hidden--visually {border: 0;clip: rect(1px 1px 1px 1px);clip: rect(1px, 1px, 1px, 1px);height: 1px;margin: -1px;overflow: hidden;padding: 0;position: absolute;width: 1px;}#sk-container-id-2 div.sk-estimator {font-family: monospace;background-color: #f0f8ff;border: 1px dotted black;border-radius: 0.25em;box-sizing: border-box;margin-bottom: 0.5em;}#sk-container-id-2 div.sk-estimator:hover {background-color: #d4ebff;}#sk-container-id-2 div.sk-parallel-item::after {content: \"\";width: 100%;border-bottom: 1px solid gray;flex-grow: 1;}#sk-container-id-2 div.sk-label:hover label.sk-toggleable__label {background-color: #d4ebff;}#sk-container-id-2 div.sk-serial::before {content: \"\";position: absolute;border-left: 1px solid gray;box-sizing: border-box;top: 0;bottom: 0;left: 50%;z-index: 0;}#sk-container-id-2 div.sk-serial {display: flex;flex-direction: column;align-items: center;background-color: white;padding-right: 0.2em;padding-left: 0.2em;position: relative;}#sk-container-id-2 div.sk-item {position: relative;z-index: 1;}#sk-container-id-2 div.sk-parallel {display: flex;align-items: stretch;justify-content: center;background-color: white;position: relative;}#sk-container-id-2 div.sk-item::before, #sk-container-id-2 div.sk-parallel-item::before {content: \"\";position: absolute;border-left: 1px solid gray;box-sizing: border-box;top: 0;bottom: 0;left: 50%;z-index: -1;}#sk-container-id-2 div.sk-parallel-item {display: flex;flex-direction: column;z-index: 1;position: relative;background-color: white;}#sk-container-id-2 div.sk-parallel-item:first-child::after {align-self: flex-end;width: 50%;}#sk-container-id-2 div.sk-parallel-item:last-child::after {align-self: flex-start;width: 50%;}#sk-container-id-2 div.sk-parallel-item:only-child::after {width: 0;}#sk-container-id-2 div.sk-dashed-wrapped {border: 1px dashed gray;margin: 0 0.4em 0.5em 0.4em;box-sizing: border-box;padding-bottom: 0.4em;background-color: white;}#sk-container-id-2 div.sk-label label {font-family: monospace;font-weight: bold;display: inline-block;line-height: 1.2em;}#sk-container-id-2 div.sk-label-container {text-align: center;}#sk-container-id-2 div.sk-container {/* jupyter's `normalize.less` sets `[hidden] { display: none; }` but bootstrap.min.css set `[hidden] { display: none !important; }` so we also need the `!important` here to be able to override the default hidden behavior on the sphinx rendered scikit-learn.org. See: https://github.com/scikit-learn/scikit-learn/issues/21755 */display: inline-block !important;position: relative;}#sk-container-id-2 div.sk-text-repr-fallback {display: none;}</style><div id=\"sk-container-id-2\" class=\"sk-top-container\"><div class=\"sk-text-repr-fallback\"><pre>Pipeline(steps=[(&#x27;pca&#x27;, PCA(n_components=2)), (&#x27;svc&#x27;, GaussianNB())])</pre><b>In a Jupyter environment, please rerun this cell to show the HTML representation or trust the notebook. <br />On GitHub, the HTML representation is unable to render, please try loading this page with nbviewer.org.</b></div><div class=\"sk-container\" hidden><div class=\"sk-item sk-dashed-wrapped\"><div class=\"sk-label-container\"><div class=\"sk-label sk-toggleable\"><input class=\"sk-toggleable__control sk-hidden--visually\" id=\"sk-estimator-id-4\" type=\"checkbox\" ><label for=\"sk-estimator-id-4\" class=\"sk-toggleable__label sk-toggleable__label-arrow\">Pipeline</label><div class=\"sk-toggleable__content\"><pre>Pipeline(steps=[(&#x27;pca&#x27;, PCA(n_components=2)), (&#x27;svc&#x27;, GaussianNB())])</pre></div></div></div><div class=\"sk-serial\"><div class=\"sk-item\"><div class=\"sk-estimator sk-toggleable\"><input class=\"sk-toggleable__control sk-hidden--visually\" id=\"sk-estimator-id-5\" type=\"checkbox\" ><label for=\"sk-estimator-id-5\" class=\"sk-toggleable__label sk-toggleable__label-arrow\">PCA</label><div class=\"sk-toggleable__content\"><pre>PCA(n_components=2)</pre></div></div></div><div class=\"sk-item\"><div class=\"sk-estimator sk-toggleable\"><input class=\"sk-toggleable__control sk-hidden--visually\" id=\"sk-estimator-id-6\" type=\"checkbox\" ><label for=\"sk-estimator-id-6\" class=\"sk-toggleable__label sk-toggleable__label-arrow\">GaussianNB</label><div class=\"sk-toggleable__content\"><pre>GaussianNB()</pre></div></div></div></div></div></div></div>"
      ],
      "text/plain": [
       "Pipeline(steps=[('pca', PCA(n_components=2)), ('svc', GaussianNB())])"
      ]
     },
     "execution_count": 47,
     "metadata": {},
     "output_type": "execute_result"
    }
   ],
   "source": [
    "#Fit Pipeline\n",
    "pipeline2.fit(X_train, y_train)"
   ]
  },
  {
   "attachments": {},
   "cell_type": "markdown",
   "metadata": {},
   "source": [
    "# Model Evaluation"
   ]
  },
  {
   "attachments": {},
   "cell_type": "markdown",
   "metadata": {},
   "source": [
    "Next we will evaluate Random Forest and naive baiyes model"
   ]
  },
  {
   "cell_type": "code",
   "execution_count": 53,
   "metadata": {},
   "outputs": [],
   "source": [
    "# Random Forest\n",
    "y_pred_rf = pipeline.predict(X_test)\n",
    "accuracy_rf = accuracy_score(y_test, y_pred_rf)\n",
    "precision_rf = precision_score(y_test, y_pred_rf)\n",
    "recall_rf = recall_score(y_test, y_pred_rf)\n",
    "f1_score_rf = f1_score(y_test, y_pred_rf)\n",
    "confusion_matrix_rf = confusion_matrix(y_test, y_pred_rf)\n",
    "fpr_rf, tpr_rf, thresholds_rf = roc_curve(y_test, y_pred_rf)\n",
    "auc_rf = roc_auc_score(y_test, y_pred_rf)\n",
    "\n",
    "# Naive Bayes\n",
    "y_pred_nb = pipeline2.predict(X_test)\n",
    "accuracy_nb = accuracy_score(y_test, y_pred_nb)\n",
    "precision_nb = precision_score(y_test, y_pred_nb)\n",
    "recall_nb = recall_score(y_test, y_pred_nb)\n",
    "f1_score_nb = f1_score(y_test, y_pred_nb)\n",
    "confusion_matrix_nb = confusion_matrix(y_test, y_pred_nb)\n",
    "fpr_nb, tpr_nb, thresholds_nb = roc_curve(y_test, y_pred_nb)\n",
    "auc_nb = roc_auc_score(y_test, y_pred_nb)"
   ]
  },
  {
   "attachments": {},
   "cell_type": "markdown",
   "metadata": {},
   "source": [
    "Random forest"
   ]
  },
  {
   "cell_type": "code",
   "execution_count": 56,
   "metadata": {},
   "outputs": [
    {
     "name": "stdout",
     "output_type": "stream",
     "text": [
      "Accuracy :  0.8312544389204546\n",
      "Precision :  0.837016449746927\n",
      "F1 score :  0.8225197619682032\n",
      "Recall :  0.8297047887828698\n"
     ]
    }
   ],
   "source": [
    "print('Accuracy : ',accuracy_rf)\n",
    "print('Precision : ',precision_rf)\n",
    "print('F1 score : ',recall_rf)\n",
    "print('Recall : ',f1_score_rf)"
   ]
  },
  {
   "cell_type": "code",
   "execution_count": 59,
   "metadata": {},
   "outputs": [
    {
     "data": {
      "image/png": "[encoded data removed]",
      "text/plain": [
       "<Figure size 576x432 with 2 Axes>"
      ]
     },
     "metadata": {
      "needs_background": "light"
     },
     "output_type": "display_data"
    }
   ],
   "source": [
    "plt.figure(figsize=(8, 6))\n",
    "sns.heatmap(confusion_matrix_rf, annot=True, cmap=\"Blues\", fmt=\"d\")\n",
    "plt.title(\"Confusion Matrix\")\n",
    "plt.xlabel(\"Predicted Label\")\n",
    "plt.ylabel(\"True Label\")\n",
    "plt.show()"
   ]
  },
  {
   "cell_type": "code",
   "execution_count": 60,
   "metadata": {},
   "outputs": [
    {
     "data": {
      "text/plain": [
       "0.8312505633871542"
      ]
     },
     "execution_count": 60,
     "metadata": {},
     "output_type": "execute_result"
    }
   ],
   "source": [
    "auc_rf"
   ]
  },
  {
   "attachments": {},
   "cell_type": "markdown",
   "metadata": {},
   "source": [
    "Naive Bayes"
   ]
  },
  {
   "cell_type": "code",
   "execution_count": 61,
   "metadata": {},
   "outputs": [
    {
     "name": "stdout",
     "output_type": "stream",
     "text": [
      "Accuracy :  0.7094282670454546\n",
      "Precision :  0.6738152314217223\n",
      "F1 score :  0.8113731237232437\n",
      "Recall :  0.7362238833034473\n"
     ]
    }
   ],
   "source": [
    "print('Accuracy : ',accuracy_nb)\n",
    "print('Precision : ',precision_nb)\n",
    "print('F1 score : ',recall_nb)\n",
    "print('Recall : ',f1_score_nb)"
   ]
  },
  {
   "cell_type": "code",
   "execution_count": 62,
   "metadata": {},
   "outputs": [
    {
     "data": {
      "image/png": "[encoded data removed]",
      "text/plain": [
       "<Figure size 576x432 with 2 Axes>"
      ]
     },
     "metadata": {
      "needs_background": "light"
     },
     "output_type": "display_data"
    }
   ],
   "source": [
    "plt.figure(figsize=(8, 6))\n",
    "sns.heatmap(confusion_matrix_nb, annot=True, cmap=\"Blues\", fmt=\"d\")\n",
    "plt.title(\"Confusion Matrix\")\n",
    "plt.xlabel(\"Predicted Label\")\n",
    "plt.ylabel(\"True Label\")\n",
    "plt.show()"
   ]
  },
  {
   "cell_type": "code",
   "execution_count": 64,
   "metadata": {},
   "outputs": [
    {
     "data": {
      "text/plain": [
       "0.7094734994780919"
      ]
     },
     "execution_count": 64,
     "metadata": {},
     "output_type": "execute_result"
    }
   ],
   "source": [
    "auc_nb"
   ]
  },
  {
   "attachments": {},
   "cell_type": "markdown",
   "metadata": {},
   "source": [
    "From the two models, it can be observed that the Random Forest model performs better with an accuracy of 83% compared to the Naive Bayes model, which achieves an accuracy of only 71%. The Random Forest model also exhibits a significantly higher AUC score, indicating better overall performance in classification.\n",
    "\n",
    "Based on these results, the focus will be on improving the Random Forest model to further enhance its accuracy. Various techniques can be employed for this purpose, such as adjusting hyperparameters, optimizing feature selection, or applying ensemble methods. By fine-tuning the Random Forest model, it is anticipated that the accuracy can be further increased, leading to more reliable predictions. For this case, we will use RandomizedSearchCV Method/Hyperparameter tunning"
   ]
  },
  {
   "attachments": {},
   "cell_type": "markdown",
   "metadata": {},
   "source": [
    "# Model Improvement"
   ]
  },
  {
   "attachments": {},
   "cell_type": "markdown",
   "metadata": {},
   "source": [
    "We will perform two hyperpramater to decrease the computation time"
   ]
  },
  {
   "cell_type": "code",
   "execution_count": 75,
   "metadata": {},
   "outputs": [],
   "source": [
    "#Setting up parameters\n",
    "param_grid = {\n",
    "    'n_estimators': [100, 200],\n",
    "    'max_features': ['sqrt','log2']\n",
    "}"
   ]
  },
  {
   "cell_type": "code",
   "execution_count": 80,
   "metadata": {},
   "outputs": [
    {
     "name": "stdout",
     "output_type": "stream",
     "text": [
      "Best parameters: {'n_estimators': 100, 'max_features': 'log2'}\n"
     ]
    }
   ],
   "source": [
    "#Fitting to find the best parameters\n",
    "grid_search = RandomizedSearchCV(estimator=rf_model, param_distributions=param_grid, n_iter=4, cv=5)\n",
    "grid_search.fit(X_train, y_train)\n",
    "print(\"Best parameters:\", grid_search.best_params_)"
   ]
  },
  {
   "cell_type": "code",
   "execution_count": 81,
   "metadata": {},
   "outputs": [],
   "source": [
    "model_rf_grid = RandomForestClassifier(n_estimators= 100, max_features = 'log2')"
   ]
  },
  {
   "attachments": {},
   "cell_type": "markdown",
   "metadata": {},
   "source": [
    "Then we will make a pipeline for our new model"
   ]
  },
  {
   "cell_type": "code",
   "execution_count": 82,
   "metadata": {},
   "outputs": [],
   "source": [
    "pipeline3 = Pipeline([('pca', pca2), ('rf', model_rf_grid)])"
   ]
  },
  {
   "cell_type": "code",
   "execution_count": 83,
   "metadata": {},
   "outputs": [
    {
     "data": {
      "text/html": [
       "<style>#sk-container-id-3 {color: black;background-color: white;}#sk-container-id-3 pre{padding: 0;}#sk-container-id-3 div.sk-toggleable {background-color: white;}#sk-container-id-3 label.sk-toggleable__label {cursor: pointer;display: block;width: 100%;margin-bottom: 0;padding: 0.3em;box-sizing: border-box;text-align: center;}#sk-container-id-3 label.sk-toggleable__label-arrow:before {content: \"▸\";float: left;margin-right: 0.25em;color: #696969;}#sk-container-id-3 label.sk-toggleable__label-arrow:hover:before {color: black;}#sk-container-id-3 div.sk-estimator:hover label.sk-toggleable__label-arrow:before {color: black;}#sk-container-id-3 div.sk-toggleable__content {max-height: 0;max-width: 0;overflow: hidden;text-align: left;background-color: #f0f8ff;}#sk-container-id-3 div.sk-toggleable__content pre {margin: 0.2em;color: black;border-radius: 0.25em;background-color: #f0f8ff;}#sk-container-id-3 input.sk-toggleable__control:checked~div.sk-toggleable__content {max-height: 200px;max-width: 100%;overflow: auto;}#sk-container-id-3 input.sk-toggleable__control:checked~label.sk-toggleable__label-arrow:before {content: \"▾\";}#sk-container-id-3 div.sk-estimator input.sk-toggleable__control:checked~label.sk-toggleable__label {background-color: #d4ebff;}#sk-container-id-3 div.sk-label input.sk-toggleable__control:checked~label.sk-toggleable__label {background-color: #d4ebff;}#sk-container-id-3 input.sk-hidden--visually {border: 0;clip: rect(1px 1px 1px 1px);clip: rect(1px, 1px, 1px, 1px);height: 1px;margin: -1px;overflow: hidden;padding: 0;position: absolute;width: 1px;}#sk-container-id-3 div.sk-estimator {font-family: monospace;background-color: #f0f8ff;border: 1px dotted black;border-radius: 0.25em;box-sizing: border-box;margin-bottom: 0.5em;}#sk-container-id-3 div.sk-estimator:hover {background-color: #d4ebff;}#sk-container-id-3 div.sk-parallel-item::after {content: \"\";width: 100%;border-bottom: 1px solid gray;flex-grow: 1;}#sk-container-id-3 div.sk-label:hover label.sk-toggleable__label {background-color: #d4ebff;}#sk-container-id-3 div.sk-serial::before {content: \"\";position: absolute;border-left: 1px solid gray;box-sizing: border-box;top: 0;bottom: 0;left: 50%;z-index: 0;}#sk-container-id-3 div.sk-serial {display: flex;flex-direction: column;align-items: center;background-color: white;padding-right: 0.2em;padding-left: 0.2em;position: relative;}#sk-container-id-3 div.sk-item {position: relative;z-index: 1;}#sk-container-id-3 div.sk-parallel {display: flex;align-items: stretch;justify-content: center;background-color: white;position: relative;}#sk-container-id-3 div.sk-item::before, #sk-container-id-3 div.sk-parallel-item::before {content: \"\";position: absolute;border-left: 1px solid gray;box-sizing: border-box;top: 0;bottom: 0;left: 50%;z-index: -1;}#sk-container-id-3 div.sk-parallel-item {display: flex;flex-direction: column;z-index: 1;position: relative;background-color: white;}#sk-container-id-3 div.sk-parallel-item:first-child::after {align-self: flex-end;width: 50%;}#sk-container-id-3 div.sk-parallel-item:last-child::after {align-self: flex-start;width: 50%;}#sk-container-id-3 div.sk-parallel-item:only-child::after {width: 0;}#sk-container-id-3 div.sk-dashed-wrapped {border: 1px dashed gray;margin: 0 0.4em 0.5em 0.4em;box-sizing: border-box;padding-bottom: 0.4em;background-color: white;}#sk-container-id-3 div.sk-label label {font-family: monospace;font-weight: bold;display: inline-block;line-height: 1.2em;}#sk-container-id-3 div.sk-label-container {text-align: center;}#sk-container-id-3 div.sk-container {/* jupyter's `normalize.less` sets `[hidden] { display: none; }` but bootstrap.min.css set `[hidden] { display: none !important; }` so we also need the `!important` here to be able to override the default hidden behavior on the sphinx rendered scikit-learn.org. See: https://github.com/scikit-learn/scikit-learn/issues/21755 */display: inline-block !important;position: relative;}#sk-container-id-3 div.sk-text-repr-fallback {display: none;}</style><div id=\"sk-container-id-3\" class=\"sk-top-container\"><div class=\"sk-text-repr-fallback\"><pre>Pipeline(steps=[(&#x27;pca&#x27;, PCA(n_components=2)),\n",
       "                (&#x27;rf&#x27;, RandomForestClassifier(max_features=&#x27;log2&#x27;))])</pre><b>In a Jupyter environment, please rerun this cell to show the HTML representation or trust the notebook. <br />On GitHub, the HTML representation is unable to render, please try loading this page with nbviewer.org.</b></div><div class=\"sk-container\" hidden><div class=\"sk-item sk-dashed-wrapped\"><div class=\"sk-label-container\"><div class=\"sk-label sk-toggleable\"><input class=\"sk-toggleable__control sk-hidden--visually\" id=\"sk-estimator-id-7\" type=\"checkbox\" ><label for=\"sk-estimator-id-7\" class=\"sk-toggleable__label sk-toggleable__label-arrow\">Pipeline</label><div class=\"sk-toggleable__content\"><pre>Pipeline(steps=[(&#x27;pca&#x27;, PCA(n_components=2)),\n",
       "                (&#x27;rf&#x27;, RandomForestClassifier(max_features=&#x27;log2&#x27;))])</pre></div></div></div><div class=\"sk-serial\"><div class=\"sk-item\"><div class=\"sk-estimator sk-toggleable\"><input class=\"sk-toggleable__control sk-hidden--visually\" id=\"sk-estimator-id-8\" type=\"checkbox\" ><label for=\"sk-estimator-id-8\" class=\"sk-toggleable__label sk-toggleable__label-arrow\">PCA</label><div class=\"sk-toggleable__content\"><pre>PCA(n_components=2)</pre></div></div></div><div class=\"sk-item\"><div class=\"sk-estimator sk-toggleable\"><input class=\"sk-toggleable__control sk-hidden--visually\" id=\"sk-estimator-id-9\" type=\"checkbox\" ><label for=\"sk-estimator-id-9\" class=\"sk-toggleable__label sk-toggleable__label-arrow\">RandomForestClassifier</label><div class=\"sk-toggleable__content\"><pre>RandomForestClassifier(max_features=&#x27;log2&#x27;)</pre></div></div></div></div></div></div></div>"
      ],
      "text/plain": [
       "Pipeline(steps=[('pca', PCA(n_components=2)),\n",
       "                ('rf', RandomForestClassifier(max_features='log2'))])"
      ]
     },
     "execution_count": 83,
     "metadata": {},
     "output_type": "execute_result"
    }
   ],
   "source": [
    "#Fit Pipeline\n",
    "pipeline3.fit(X_train, y_train)"
   ]
  },
  {
   "attachments": {},
   "cell_type": "markdown",
   "metadata": {},
   "source": [
    "# Model Evaluation (After Improvement)"
   ]
  },
  {
   "attachments": {},
   "cell_type": "markdown",
   "metadata": {},
   "source": [
    "We will try to evaluate our new models"
   ]
  },
  {
   "cell_type": "code",
   "execution_count": 84,
   "metadata": {},
   "outputs": [],
   "source": [
    "y_pred_rf_rand = pipeline3.predict(X_test)\n",
    "accuracy_rf_rand = accuracy_score(y_test, y_pred_rf_rand)\n",
    "precision_rf_rand = precision_score(y_test, y_pred_rf_rand)\n",
    "recall_rf_rand = recall_score(y_test, y_pred_rf_rand)\n",
    "f1_score_rf_rand = f1_score(y_test, y_pred_rf_rand)\n",
    "confusion_matrix_rf_rand = confusion_matrix(y_test, y_pred_rf_rand)\n",
    "fpr_rf_rand, tpr_rf_rand, thresholds_rf_rand = roc_curve(y_test, y_pred_rf_rand)\n",
    "auc_rf_rand = roc_auc_score(y_test, y_pred_rf_rand)"
   ]
  },
  {
   "cell_type": "code",
   "execution_count": 85,
   "metadata": {},
   "outputs": [
    {
     "name": "stdout",
     "output_type": "stream",
     "text": [
      "Accuracy :  0.8313543146306818\n",
      "Precision :  0.8369734613212874\n",
      "F1 score :  0.8228306243893774\n",
      "Recall :  0.8298417888054104\n"
     ]
    }
   ],
   "source": [
    "print('Accuracy : ',accuracy_rf_rand)\n",
    "print('Precision : ',precision_rf_rand)\n",
    "print('F1 score : ',recall_rf_rand)\n",
    "print('Recall : ',f1_score_rf_rand)"
   ]
  },
  {
   "cell_type": "code",
   "execution_count": 86,
   "metadata": {},
   "outputs": [
    {
     "data": {
      "image/png": "[encoded data removed]",
      "text/plain": [
       "<Figure size 576x432 with 2 Axes>"
      ]
     },
     "metadata": {
      "needs_background": "light"
     },
     "output_type": "display_data"
    }
   ],
   "source": [
    "plt.figure(figsize=(8, 6))\n",
    "sns.heatmap(confusion_matrix_rf_rand, annot=True, cmap=\"Blues\", fmt=\"d\")\n",
    "plt.title(\"Confusion Matrix\")\n",
    "plt.xlabel(\"Predicted Label\")\n",
    "plt.ylabel(\"True Label\")\n",
    "plt.show()"
   ]
  },
  {
   "cell_type": "code",
   "execution_count": 87,
   "metadata": {},
   "outputs": [
    {
     "data": {
      "text/plain": [
       "0.8313505327111497"
      ]
     },
     "execution_count": 87,
     "metadata": {},
     "output_type": "execute_result"
    }
   ],
   "source": [
    "auc_rf_rand"
   ]
  },
  {
   "attachments": {},
   "cell_type": "markdown",
   "metadata": {},
   "source": [
    "Although the increase in accuracy is relatively small, we were able to improve the accuracy. The small improvement could be because we dont find the best parameters enough. In the future, we can try more complex parameter configurations to further improve the accuracy."
   ]
  },
  {
   "attachments": {},
   "cell_type": "markdown",
   "metadata": {},
   "source": [
    "# Model Interference"
   ]
  },
  {
   "attachments": {},
   "cell_type": "markdown",
   "metadata": {},
   "source": [
    "Next, We will try the best model we have"
   ]
  },
  {
   "cell_type": "code",
   "execution_count": 88,
   "metadata": {},
   "outputs": [
    {
     "data": {
      "text/html": [
       "<div>\n",
       "<style scoped>\n",
       "    .dataframe tbody tr th:only-of-type {\n",
       "        vertical-align: middle;\n",
       "    }\n",
       "\n",
       "    .dataframe tbody tr th {\n",
       "        vertical-align: top;\n",
       "    }\n",
       "\n",
       "    .dataframe thead th {\n",
       "        text-align: right;\n",
       "    }\n",
       "</style>\n",
       "<table border=\"1\" class=\"dataframe\">\n",
       "  <thead>\n",
       "    <tr style=\"text-align: right;\">\n",
       "      <th></th>\n",
       "      <th>temp</th>\n",
       "      <th>pressure</th>\n",
       "      <th>humidity</th>\n",
       "    </tr>\n",
       "  </thead>\n",
       "  <tbody>\n",
       "    <tr>\n",
       "      <th>262338</th>\n",
       "      <td>25.08</td>\n",
       "      <td>1015.0</td>\n",
       "      <td>88</td>\n",
       "    </tr>\n",
       "  </tbody>\n",
       "</table>\n",
       "</div>"
      ],
      "text/plain": [
       "         temp  pressure  humidity\n",
       "262338  25.08    1015.0        88"
      ]
     },
     "execution_count": 88,
     "metadata": {},
     "output_type": "execute_result"
    }
   ],
   "source": [
    "masukan = X.sample()\n",
    "masukan"
   ]
  },
  {
   "cell_type": "code",
   "execution_count": 89,
   "metadata": {},
   "outputs": [
    {
     "data": {
      "text/plain": [
       "array([0], dtype=int64)"
      ]
     },
     "execution_count": 89,
     "metadata": {},
     "output_type": "execute_result"
    }
   ],
   "source": [
    "cek_random =pipeline3.predict(masukan.values)\n",
    "cek_random"
   ]
  },
  {
   "attachments": {},
   "cell_type": "markdown",
   "metadata": {},
   "source": [
    "# Conclusion"
   ]
  },
  {
   "attachments": {},
   "cell_type": "markdown",
   "metadata": {},
   "source": [
    "Based on the modeling results, the best-performing model is the Random Forest classifier. After conducting hyperparameter tuning, the model's accuracy has improved. It is expected that this model can contribute to the economic and tourism sectors in Bali in the future. By leveraging the accurate weather predictions provided by the model, businesses and tourists can make informed decisions, leading to better planning and overall growth in the region."
   ]
  }
 ],
 "metadata": {
  "kernelspec": {
   "display_name": "Python 3",
   "language": "python",
   "name": "python3"
  },
  "language_info": {
   "codemirror_mode": {
    "name": "ipython",
    "version": 3
   },
   "file_extension": ".py",
   "mimetype": "text/x-python",
   "name": "python",
   "nbconvert_exporter": "python",
   "pygments_lexer": "ipython3",
   "version": "3.10.11"
  },
  "orig_nbformat": 4
 },
 "nbformat": 4,
 "nbformat_minor": 2
}
